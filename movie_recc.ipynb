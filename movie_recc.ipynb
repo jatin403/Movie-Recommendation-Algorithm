{
  "nbformat": 4,
  "nbformat_minor": 0,
  "metadata": {
    "colab": {
      "provenance": []
    },
    "kernelspec": {
      "name": "python3",
      "display_name": "Python 3"
    },
    "language_info": {
      "name": "python"
    }
  },
  "cells": [
    {
      "cell_type": "markdown",
      "source": [
        "Importing the libraries required"
      ],
      "metadata": {
        "id": "Y4L0vMTKceJr"
      }
    },
    {
      "cell_type": "markdown",
      "source": [
        "using cosine simikarity something explain"
      ],
      "metadata": {
        "id": "leUjeb7hgJU1"
      }
    },
    {
      "cell_type": "code",
      "execution_count": 2,
      "metadata": {
        "id": "6AF5ELXEZqQ8"
      },
      "outputs": [],
      "source": [
        "import numpy as np\n",
        "import pandas as pd\n",
        "import difflib\n",
        "from sklearn.feature_extraction.text import TfidfVectorizer\n",
        "from sklearn.metrics.pairwise import cosine_similarity"
      ]
    },
    {
      "cell_type": "markdown",
      "source": [
        "Data Collection and Pre processing"
      ],
      "metadata": {
        "id": "4R7yiv5QdkiC"
      }
    },
    {
      "cell_type": "code",
      "source": [
        "#loading data from csv file to the pandas dataframe\n",
        "mv_data = pd.read_csv('/content/movies.csv')"
      ],
      "metadata": {
        "id": "xCoVdgH5cdmD"
      },
      "execution_count": 3,
      "outputs": []
    },
    {
      "cell_type": "code",
      "source": [
        "# printing the first 5 rows of the dataframe\n",
        "mv_data.head()"
      ],
      "metadata": {
        "colab": {
          "base_uri": "https://localhost:8080/",
          "height": 837
        },
        "id": "Z_31fdJSeH8T",
        "outputId": "5d3885a2-2dba-4012-c6ec-aa872df903b3"
      },
      "execution_count": 4,
      "outputs": [
        {
          "output_type": "execute_result",
          "data": {
            "text/plain": [
              "   index     budget                                    genres  \\\n",
              "0      0  237000000  Action Adventure Fantasy Science Fiction   \n",
              "1      1  300000000                  Adventure Fantasy Action   \n",
              "2      2  245000000                    Action Adventure Crime   \n",
              "3      3  250000000               Action Crime Drama Thriller   \n",
              "4      4  260000000          Action Adventure Science Fiction   \n",
              "\n",
              "                                       homepage      id  \\\n",
              "0                   http://www.avatarmovie.com/   19995   \n",
              "1  http://disney.go.com/disneypictures/pirates/     285   \n",
              "2   http://www.sonypictures.com/movies/spectre/  206647   \n",
              "3            http://www.thedarkknightrises.com/   49026   \n",
              "4          http://movies.disney.com/john-carter   49529   \n",
              "\n",
              "                                            keywords original_language  \\\n",
              "0  culture clash future space war space colony so...                en   \n",
              "1  ocean drug abuse exotic island east india trad...                en   \n",
              "2         spy based on novel secret agent sequel mi6                en   \n",
              "3  dc comics crime fighter terrorist secret ident...                en   \n",
              "4  based on novel mars medallion space travel pri...                en   \n",
              "\n",
              "                             original_title  \\\n",
              "0                                    Avatar   \n",
              "1  Pirates of the Caribbean: At World's End   \n",
              "2                                   Spectre   \n",
              "3                     The Dark Knight Rises   \n",
              "4                               John Carter   \n",
              "\n",
              "                                            overview  popularity  ... runtime  \\\n",
              "0  In the 22nd century, a paraplegic Marine is di...  150.437577  ...   162.0   \n",
              "1  Captain Barbossa, long believed to be dead, ha...  139.082615  ...   169.0   \n",
              "2  A cryptic message from Bond’s past sends him o...  107.376788  ...   148.0   \n",
              "3  Following the death of District Attorney Harve...  112.312950  ...   165.0   \n",
              "4  John Carter is a war-weary, former military ca...   43.926995  ...   132.0   \n",
              "\n",
              "                                    spoken_languages    status  \\\n",
              "0  [{\"iso_639_1\": \"en\", \"name\": \"English\"}, {\"iso...  Released   \n",
              "1           [{\"iso_639_1\": \"en\", \"name\": \"English\"}]  Released   \n",
              "2  [{\"iso_639_1\": \"fr\", \"name\": \"Fran\\u00e7ais\"},...  Released   \n",
              "3           [{\"iso_639_1\": \"en\", \"name\": \"English\"}]  Released   \n",
              "4           [{\"iso_639_1\": \"en\", \"name\": \"English\"}]  Released   \n",
              "\n",
              "                                          tagline  \\\n",
              "0                     Enter the World of Pandora.   \n",
              "1  At the end of the world, the adventure begins.   \n",
              "2                           A Plan No One Escapes   \n",
              "3                                 The Legend Ends   \n",
              "4            Lost in our world, found in another.   \n",
              "\n",
              "                                      title vote_average vote_count  \\\n",
              "0                                    Avatar          7.2      11800   \n",
              "1  Pirates of the Caribbean: At World's End          6.9       4500   \n",
              "2                                   Spectre          6.3       4466   \n",
              "3                     The Dark Knight Rises          7.6       9106   \n",
              "4                               John Carter          6.1       2124   \n",
              "\n",
              "                                                cast  \\\n",
              "0  Sam Worthington Zoe Saldana Sigourney Weaver S...   \n",
              "1  Johnny Depp Orlando Bloom Keira Knightley Stel...   \n",
              "2  Daniel Craig Christoph Waltz L\\u00e9a Seydoux ...   \n",
              "3  Christian Bale Michael Caine Gary Oldman Anne ...   \n",
              "4  Taylor Kitsch Lynn Collins Samantha Morton Wil...   \n",
              "\n",
              "                                                crew           director  \n",
              "0  [{'name': 'Stephen E. Rivkin', 'gender': 0, 'd...      James Cameron  \n",
              "1  [{'name': 'Dariusz Wolski', 'gender': 2, 'depa...     Gore Verbinski  \n",
              "2  [{'name': 'Thomas Newman', 'gender': 2, 'depar...         Sam Mendes  \n",
              "3  [{'name': 'Hans Zimmer', 'gender': 2, 'departm...  Christopher Nolan  \n",
              "4  [{'name': 'Andrew Stanton', 'gender': 2, 'depa...     Andrew Stanton  \n",
              "\n",
              "[5 rows x 24 columns]"
            ],
            "text/html": [
              "\n",
              "  <div id=\"df-ba99dfeb-29b4-4a2f-82f1-b0257cb64b65\">\n",
              "    <div class=\"colab-df-container\">\n",
              "      <div>\n",
              "<style scoped>\n",
              "    .dataframe tbody tr th:only-of-type {\n",
              "        vertical-align: middle;\n",
              "    }\n",
              "\n",
              "    .dataframe tbody tr th {\n",
              "        vertical-align: top;\n",
              "    }\n",
              "\n",
              "    .dataframe thead th {\n",
              "        text-align: right;\n",
              "    }\n",
              "</style>\n",
              "<table border=\"1\" class=\"dataframe\">\n",
              "  <thead>\n",
              "    <tr style=\"text-align: right;\">\n",
              "      <th></th>\n",
              "      <th>index</th>\n",
              "      <th>budget</th>\n",
              "      <th>genres</th>\n",
              "      <th>homepage</th>\n",
              "      <th>id</th>\n",
              "      <th>keywords</th>\n",
              "      <th>original_language</th>\n",
              "      <th>original_title</th>\n",
              "      <th>overview</th>\n",
              "      <th>popularity</th>\n",
              "      <th>...</th>\n",
              "      <th>runtime</th>\n",
              "      <th>spoken_languages</th>\n",
              "      <th>status</th>\n",
              "      <th>tagline</th>\n",
              "      <th>title</th>\n",
              "      <th>vote_average</th>\n",
              "      <th>vote_count</th>\n",
              "      <th>cast</th>\n",
              "      <th>crew</th>\n",
              "      <th>director</th>\n",
              "    </tr>\n",
              "  </thead>\n",
              "  <tbody>\n",
              "    <tr>\n",
              "      <th>0</th>\n",
              "      <td>0</td>\n",
              "      <td>237000000</td>\n",
              "      <td>Action Adventure Fantasy Science Fiction</td>\n",
              "      <td>http://www.avatarmovie.com/</td>\n",
              "      <td>19995</td>\n",
              "      <td>culture clash future space war space colony so...</td>\n",
              "      <td>en</td>\n",
              "      <td>Avatar</td>\n",
              "      <td>In the 22nd century, a paraplegic Marine is di...</td>\n",
              "      <td>150.437577</td>\n",
              "      <td>...</td>\n",
              "      <td>162.0</td>\n",
              "      <td>[{\"iso_639_1\": \"en\", \"name\": \"English\"}, {\"iso...</td>\n",
              "      <td>Released</td>\n",
              "      <td>Enter the World of Pandora.</td>\n",
              "      <td>Avatar</td>\n",
              "      <td>7.2</td>\n",
              "      <td>11800</td>\n",
              "      <td>Sam Worthington Zoe Saldana Sigourney Weaver S...</td>\n",
              "      <td>[{'name': 'Stephen E. Rivkin', 'gender': 0, 'd...</td>\n",
              "      <td>James Cameron</td>\n",
              "    </tr>\n",
              "    <tr>\n",
              "      <th>1</th>\n",
              "      <td>1</td>\n",
              "      <td>300000000</td>\n",
              "      <td>Adventure Fantasy Action</td>\n",
              "      <td>http://disney.go.com/disneypictures/pirates/</td>\n",
              "      <td>285</td>\n",
              "      <td>ocean drug abuse exotic island east india trad...</td>\n",
              "      <td>en</td>\n",
              "      <td>Pirates of the Caribbean: At World's End</td>\n",
              "      <td>Captain Barbossa, long believed to be dead, ha...</td>\n",
              "      <td>139.082615</td>\n",
              "      <td>...</td>\n",
              "      <td>169.0</td>\n",
              "      <td>[{\"iso_639_1\": \"en\", \"name\": \"English\"}]</td>\n",
              "      <td>Released</td>\n",
              "      <td>At the end of the world, the adventure begins.</td>\n",
              "      <td>Pirates of the Caribbean: At World's End</td>\n",
              "      <td>6.9</td>\n",
              "      <td>4500</td>\n",
              "      <td>Johnny Depp Orlando Bloom Keira Knightley Stel...</td>\n",
              "      <td>[{'name': 'Dariusz Wolski', 'gender': 2, 'depa...</td>\n",
              "      <td>Gore Verbinski</td>\n",
              "    </tr>\n",
              "    <tr>\n",
              "      <th>2</th>\n",
              "      <td>2</td>\n",
              "      <td>245000000</td>\n",
              "      <td>Action Adventure Crime</td>\n",
              "      <td>http://www.sonypictures.com/movies/spectre/</td>\n",
              "      <td>206647</td>\n",
              "      <td>spy based on novel secret agent sequel mi6</td>\n",
              "      <td>en</td>\n",
              "      <td>Spectre</td>\n",
              "      <td>A cryptic message from Bond’s past sends him o...</td>\n",
              "      <td>107.376788</td>\n",
              "      <td>...</td>\n",
              "      <td>148.0</td>\n",
              "      <td>[{\"iso_639_1\": \"fr\", \"name\": \"Fran\\u00e7ais\"},...</td>\n",
              "      <td>Released</td>\n",
              "      <td>A Plan No One Escapes</td>\n",
              "      <td>Spectre</td>\n",
              "      <td>6.3</td>\n",
              "      <td>4466</td>\n",
              "      <td>Daniel Craig Christoph Waltz L\\u00e9a Seydoux ...</td>\n",
              "      <td>[{'name': 'Thomas Newman', 'gender': 2, 'depar...</td>\n",
              "      <td>Sam Mendes</td>\n",
              "    </tr>\n",
              "    <tr>\n",
              "      <th>3</th>\n",
              "      <td>3</td>\n",
              "      <td>250000000</td>\n",
              "      <td>Action Crime Drama Thriller</td>\n",
              "      <td>http://www.thedarkknightrises.com/</td>\n",
              "      <td>49026</td>\n",
              "      <td>dc comics crime fighter terrorist secret ident...</td>\n",
              "      <td>en</td>\n",
              "      <td>The Dark Knight Rises</td>\n",
              "      <td>Following the death of District Attorney Harve...</td>\n",
              "      <td>112.312950</td>\n",
              "      <td>...</td>\n",
              "      <td>165.0</td>\n",
              "      <td>[{\"iso_639_1\": \"en\", \"name\": \"English\"}]</td>\n",
              "      <td>Released</td>\n",
              "      <td>The Legend Ends</td>\n",
              "      <td>The Dark Knight Rises</td>\n",
              "      <td>7.6</td>\n",
              "      <td>9106</td>\n",
              "      <td>Christian Bale Michael Caine Gary Oldman Anne ...</td>\n",
              "      <td>[{'name': 'Hans Zimmer', 'gender': 2, 'departm...</td>\n",
              "      <td>Christopher Nolan</td>\n",
              "    </tr>\n",
              "    <tr>\n",
              "      <th>4</th>\n",
              "      <td>4</td>\n",
              "      <td>260000000</td>\n",
              "      <td>Action Adventure Science Fiction</td>\n",
              "      <td>http://movies.disney.com/john-carter</td>\n",
              "      <td>49529</td>\n",
              "      <td>based on novel mars medallion space travel pri...</td>\n",
              "      <td>en</td>\n",
              "      <td>John Carter</td>\n",
              "      <td>John Carter is a war-weary, former military ca...</td>\n",
              "      <td>43.926995</td>\n",
              "      <td>...</td>\n",
              "      <td>132.0</td>\n",
              "      <td>[{\"iso_639_1\": \"en\", \"name\": \"English\"}]</td>\n",
              "      <td>Released</td>\n",
              "      <td>Lost in our world, found in another.</td>\n",
              "      <td>John Carter</td>\n",
              "      <td>6.1</td>\n",
              "      <td>2124</td>\n",
              "      <td>Taylor Kitsch Lynn Collins Samantha Morton Wil...</td>\n",
              "      <td>[{'name': 'Andrew Stanton', 'gender': 2, 'depa...</td>\n",
              "      <td>Andrew Stanton</td>\n",
              "    </tr>\n",
              "  </tbody>\n",
              "</table>\n",
              "<p>5 rows × 24 columns</p>\n",
              "</div>\n",
              "      <button class=\"colab-df-convert\" onclick=\"convertToInteractive('df-ba99dfeb-29b4-4a2f-82f1-b0257cb64b65')\"\n",
              "              title=\"Convert this dataframe to an interactive table.\"\n",
              "              style=\"display:none;\">\n",
              "        \n",
              "  <svg xmlns=\"http://www.w3.org/2000/svg\" height=\"24px\"viewBox=\"0 0 24 24\"\n",
              "       width=\"24px\">\n",
              "    <path d=\"M0 0h24v24H0V0z\" fill=\"none\"/>\n",
              "    <path d=\"M18.56 5.44l.94 2.06.94-2.06 2.06-.94-2.06-.94-.94-2.06-.94 2.06-2.06.94zm-11 1L8.5 8.5l.94-2.06 2.06-.94-2.06-.94L8.5 2.5l-.94 2.06-2.06.94zm10 10l.94 2.06.94-2.06 2.06-.94-2.06-.94-.94-2.06-.94 2.06-2.06.94z\"/><path d=\"M17.41 7.96l-1.37-1.37c-.4-.4-.92-.59-1.43-.59-.52 0-1.04.2-1.43.59L10.3 9.45l-7.72 7.72c-.78.78-.78 2.05 0 2.83L4 21.41c.39.39.9.59 1.41.59.51 0 1.02-.2 1.41-.59l7.78-7.78 2.81-2.81c.8-.78.8-2.07 0-2.86zM5.41 20L4 18.59l7.72-7.72 1.47 1.35L5.41 20z\"/>\n",
              "  </svg>\n",
              "      </button>\n",
              "      \n",
              "  <style>\n",
              "    .colab-df-container {\n",
              "      display:flex;\n",
              "      flex-wrap:wrap;\n",
              "      gap: 12px;\n",
              "    }\n",
              "\n",
              "    .colab-df-convert {\n",
              "      background-color: #E8F0FE;\n",
              "      border: none;\n",
              "      border-radius: 50%;\n",
              "      cursor: pointer;\n",
              "      display: none;\n",
              "      fill: #1967D2;\n",
              "      height: 32px;\n",
              "      padding: 0 0 0 0;\n",
              "      width: 32px;\n",
              "    }\n",
              "\n",
              "    .colab-df-convert:hover {\n",
              "      background-color: #E2EBFA;\n",
              "      box-shadow: 0px 1px 2px rgba(60, 64, 67, 0.3), 0px 1px 3px 1px rgba(60, 64, 67, 0.15);\n",
              "      fill: #174EA6;\n",
              "    }\n",
              "\n",
              "    [theme=dark] .colab-df-convert {\n",
              "      background-color: #3B4455;\n",
              "      fill: #D2E3FC;\n",
              "    }\n",
              "\n",
              "    [theme=dark] .colab-df-convert:hover {\n",
              "      background-color: #434B5C;\n",
              "      box-shadow: 0px 1px 3px 1px rgba(0, 0, 0, 0.15);\n",
              "      filter: drop-shadow(0px 1px 2px rgba(0, 0, 0, 0.3));\n",
              "      fill: #FFFFFF;\n",
              "    }\n",
              "  </style>\n",
              "\n",
              "      <script>\n",
              "        const buttonEl =\n",
              "          document.querySelector('#df-ba99dfeb-29b4-4a2f-82f1-b0257cb64b65 button.colab-df-convert');\n",
              "        buttonEl.style.display =\n",
              "          google.colab.kernel.accessAllowed ? 'block' : 'none';\n",
              "\n",
              "        async function convertToInteractive(key) {\n",
              "          const element = document.querySelector('#df-ba99dfeb-29b4-4a2f-82f1-b0257cb64b65');\n",
              "          const dataTable =\n",
              "            await google.colab.kernel.invokeFunction('convertToInteractive',\n",
              "                                                     [key], {});\n",
              "          if (!dataTable) return;\n",
              "\n",
              "          const docLinkHtml = 'Like what you see? Visit the ' +\n",
              "            '<a target=\"_blank\" href=https://colab.research.google.com/notebooks/data_table.ipynb>data table notebook</a>'\n",
              "            + ' to learn more about interactive tables.';\n",
              "          element.innerHTML = '';\n",
              "          dataTable['output_type'] = 'display_data';\n",
              "          await google.colab.output.renderOutput(dataTable, element);\n",
              "          const docLink = document.createElement('div');\n",
              "          docLink.innerHTML = docLinkHtml;\n",
              "          element.appendChild(docLink);\n",
              "        }\n",
              "      </script>\n",
              "    </div>\n",
              "  </div>\n",
              "  "
            ]
          },
          "metadata": {},
          "execution_count": 4
        }
      ]
    },
    {
      "cell_type": "code",
      "source": [
        "#finding no of rows and columns in our dataset\n",
        "mv_data.shape"
      ],
      "metadata": {
        "colab": {
          "base_uri": "https://localhost:8080/"
        },
        "id": "RM1sT_jsfCBc",
        "outputId": "001ba13d-55ac-40a7-b43b-44cf40583e0b"
      },
      "execution_count": null,
      "outputs": [
        {
          "output_type": "execute_result",
          "data": {
            "text/plain": [
              "(4803, 24)"
            ]
          },
          "metadata": {},
          "execution_count": 5
        }
      ]
    },
    {
      "cell_type": "code",
      "source": [
        "selected_features = ['genres','keywords','popularity','vote_average','cast','director']\n",
        "\n",
        "# Replacing the null values with empty strings\n",
        "for feature in selected_features:\n",
        "  mv_data[feature] = mv_data[feature].fillna('')\n",
        "\n",
        "# Combining all the selected features for each row\n",
        "combined_features = mv_data.apply(lambda x: x['genres'] + ' ' + x['keywords'] + ' ' + str(x['popularity']) + ' ' + str(x['vote_average']) + ' ' + x['cast'] + ' ' + x['director'], axis=1)\n",
        "print(combined_features)\n"
      ],
      "metadata": {
        "id": "rVquuFfJfN8N",
        "colab": {
          "base_uri": "https://localhost:8080/"
        },
        "outputId": "f08c2936-4605-486f-9c8e-faa02652d6f4"
      },
      "execution_count": 5,
      "outputs": [
        {
          "output_type": "stream",
          "name": "stdout",
          "text": [
            "0       Action Adventure Fantasy Science Fiction cultu...\n",
            "1       Adventure Fantasy Action ocean drug abuse exot...\n",
            "2       Action Adventure Crime spy based on novel secr...\n",
            "3       Action Crime Drama Thriller dc comics crime fi...\n",
            "4       Action Adventure Science Fiction based on nove...\n",
            "                              ...                        \n",
            "4798    Action Crime Thriller united states\\u2013mexic...\n",
            "4799    Comedy Romance  0.642552 5.9 Edward Burns Kerr...\n",
            "4800    Comedy Drama Romance TV Movie date love at fir...\n",
            "4801      0.857008 5.7 Daniel Henney Eliza Coupe Bill ...\n",
            "4802    Documentary obsession camcorder crush dream gi...\n",
            "Length: 4803, dtype: object\n"
          ]
        }
      ]
    },
    {
      "cell_type": "code",
      "source": [
        "#converting the text data to feature vectors\n",
        "vectorizer = TfidfVectorizer()\n"
      ],
      "metadata": {
        "id": "H02ZSc8Xh7_D"
      },
      "execution_count": 6,
      "outputs": []
    },
    {
      "cell_type": "code",
      "source": [
        "feature_vectors = vectorizer.fit_transform(combined_features)\n"
      ],
      "metadata": {
        "id": "8v94n2D3jD6l"
      },
      "execution_count": 7,
      "outputs": []
    },
    {
      "cell_type": "code",
      "source": [
        "print(feature_vectors)"
      ],
      "metadata": {
        "colab": {
          "base_uri": "https://localhost:8080/"
        },
        "id": "IbJV1vDnjeLO",
        "outputId": "d0c38658-3d81-4612-bed5-06c94819f2a2"
      },
      "execution_count": 8,
      "outputs": [
        {
          "output_type": "stream",
          "name": "stdout",
          "text": [
            "  (0, 6990)\t0.17119808586528584\n",
            "  (0, 11471)\t0.11228740676143956\n",
            "  (0, 16146)\t0.19252011951901565\n",
            "  (0, 13760)\t0.15916806119922522\n",
            "  (0, 12425)\t0.22508380578161033\n",
            "  (0, 17496)\t0.15016815458390856\n",
            "  (0, 19220)\t0.19667947746026163\n",
            "  (0, 17063)\t0.20414122937070758\n",
            "  (0, 16419)\t0.21582324794447952\n",
            "  (0, 19749)\t0.20019462997010404\n",
            "  (0, 19490)\t0.23434436361874117\n",
            "  (0, 16446)\t0.14913797866907347\n",
            "  (0, 2320)\t0.2827609910632701\n",
            "  (0, 868)\t0.2827609910632701\n",
            "  (0, 17228)\t0.21582324794447952\n",
            "  (0, 7684)\t0.24739638682120718\n",
            "  (0, 19164)\t0.12733636470739712\n",
            "  (0, 17315)\t0.3454870292678644\n",
            "  (0, 9815)\t0.18182864833111076\n",
            "  (0, 7545)\t0.22250721100970086\n",
            "  (0, 8044)\t0.21203178257914435\n",
            "  (0, 9495)\t0.10290605985194294\n",
            "  (0, 16674)\t0.10278572232856492\n",
            "  (0, 9364)\t0.11017965584423174\n",
            "  (0, 5073)\t0.0901365861125675\n",
            "  :\t:\n",
            "  (4801, 16290)\t0.30570211491858784\n",
            "  (4801, 19725)\t0.30570211491858784\n",
            "  (4801, 9027)\t0.26177384663437747\n",
            "  (4801, 5181)\t0.1877746333572248\n",
            "  (4801, 10773)\t0.30570211491858784\n",
            "  (4801, 14998)\t0.22834197429350797\n",
            "  (4801, 6311)\t0.16574649564411117\n",
            "  (4801, 8146)\t0.35407796692558985\n",
            "  (4802, 10829)\t0.5442756428937229\n",
            "  (4802, 4642)\t0.27213782144686144\n",
            "  (4802, 9431)\t0.21932322429681658\n",
            "  (4802, 8022)\t0.25066351138683707\n",
            "  (4802, 6985)\t0.22918920132681275\n",
            "  (4802, 8823)\t0.22918920132681275\n",
            "  (4802, 10328)\t0.2077148912667884\n",
            "  (4802, 8610)\t0.14688053273666804\n",
            "  (4802, 16114)\t0.16199000755536816\n",
            "  (4802, 5998)\t0.18722418383940945\n",
            "  (4802, 8750)\t0.18624058120676407\n",
            "  (4802, 7841)\t0.2077148912667884\n",
            "  (4802, 10110)\t0.18824004142617093\n",
            "  (4802, 9139)\t0.15352313936673861\n",
            "  (4802, 6717)\t0.29597422078019886\n",
            "  (4802, 8741)\t0.17932739748011992\n",
            "  (4802, 14588)\t0.1763746041767679\n"
          ]
        }
      ]
    },
    {
      "cell_type": "markdown",
      "source": [
        "Cosine Similarity"
      ],
      "metadata": {
        "id": "eOrgzc8RjuUl"
      }
    },
    {
      "cell_type": "code",
      "source": [
        "#getting the similarity confidence value using cosine similarity\n",
        "sim = cosine_similarity(feature_vectors)\n",
        "print(sim)\n",
        "print(sim.shape)"
      ],
      "metadata": {
        "colab": {
          "base_uri": "https://localhost:8080/"
        },
        "id": "nfKntH3ojwKa",
        "outputId": "cd5dfb5d-834e-4c20-99f2-fa6334229014"
      },
      "execution_count": 9,
      "outputs": [
        {
          "output_type": "stream",
          "name": "stdout",
          "text": [
            "[[1.         0.02330589 0.03767355 ... 0.         0.         0.        ]\n",
            " [0.02330589 1.         0.01298953 ... 0.0149616  0.         0.        ]\n",
            " [0.03767355 0.01298953 1.         ... 0.         0.05716303 0.        ]\n",
            " ...\n",
            " [0.         0.0149616  0.         ... 1.         0.         0.02364944]\n",
            " [0.         0.         0.05716303 ... 0.         1.         0.        ]\n",
            " [0.         0.         0.         ... 0.02364944 0.         1.        ]]\n",
            "(4803, 4803)\n"
          ]
        }
      ]
    },
    {
      "cell_type": "code",
      "source": [
        "#getting user input\n",
        "mv_name = input('Enter your favourite movie name : ')\n"
      ],
      "metadata": {
        "colab": {
          "base_uri": "https://localhost:8080/"
        },
        "id": "c9bs3o7rkJqx",
        "outputId": "4a609276-725d-4fb4-fe19-aaf58e62560b"
      },
      "execution_count": 60,
      "outputs": [
        {
          "name": "stdout",
          "output_type": "stream",
          "text": [
            "Enter your favourite movie name : Titanic\n"
          ]
        }
      ]
    },
    {
      "cell_type": "code",
      "source": [
        "# Creating a list of all movie names\n",
        "namelist = mv_data['title'].tolist()\n",
        "\n",
        "# Finding the closest match in the list\n",
        "find_close = difflib.get_close_matches(mv_name, namelist)\n",
        "\n",
        "if len(find_close) > 0:\n",
        "  cmatch = find_close[0]\n",
        "  print(cmatch, \"\\nPlease continue forward only if the movie shown is the one you entered. Incase it is different, that means the movie entered is not in the database.\")\n",
        "else:\n",
        "  print(\"No close match found for the movie name entered. Please Enter a new one\")\n"
      ],
      "metadata": {
        "colab": {
          "base_uri": "https://localhost:8080/"
        },
        "id": "vQvsYDoAkbEC",
        "outputId": "bd0f9d80-cecc-46b8-fd09-20a2836163c6"
      },
      "execution_count": 61,
      "outputs": [
        {
          "output_type": "stream",
          "name": "stdout",
          "text": [
            "Titanic \n",
            "Please continue forward only if the movie shown is the one you entered. Incase it is different, that means the movie entered is not in the database.\n"
          ]
        }
      ]
    },
    {
      "cell_type": "code",
      "source": [
        "#finding the index of the movie in the title\n",
        "index = mv_data[mv_data.title == cmatch]['index'].values[0]\n",
        "print(index)\n"
      ],
      "metadata": {
        "colab": {
          "base_uri": "https://localhost:8080/"
        },
        "id": "7tylZ2CmlB3c",
        "outputId": "b7f44131-067d-42d4-d437-6c96dd90982a"
      },
      "execution_count": 62,
      "outputs": [
        {
          "output_type": "stream",
          "name": "stdout",
          "text": [
            "25\n"
          ]
        }
      ]
    },
    {
      "cell_type": "code",
      "source": [
        "#getting similar movies\n",
        "\n",
        "sim_score = list(enumerate(sim[index]))\n",
        "sortlist = sorted(sim_score, key = lambda x:x[1], reverse = True)\n",
        "print(sortlist)"
      ],
      "metadata": {
        "colab": {
          "base_uri": "https://localhost:8080/"
        },
        "id": "sh4Pod0clmSh",
        "outputId": "33d7782e-403f-4e06-8618-ce6a7a05db35"
      },
      "execution_count": 63,
      "outputs": [
        {
          "output_type": "stream",
          "name": "stdout",
          "text": [
            "[(25, 1.0), (1081, 0.18551132383956967), (454, 0.17163330800478344), (176, 0.15096536369106162), (2011, 0.13323533783162803), (765, 0.13102532836435893), (656, 0.12969594404839704), (250, 0.12665767858948576), (316, 0.12583599027105868), (1629, 0.12563482432054923), (142, 0.12165539988364121), (2098, 0.11852057053452221), (395, 0.11226748649646345), (2008, 0.11189968158810484), (1985, 0.10973866366031688), (351, 0.10847079717976182), (4133, 0.10504295392953517), (872, 0.10394336590767478), (4375, 0.10261118979504227), (1089, 0.10230012465958273), (439, 0.10165669296936691), (1515, 0.10106927042614589), (49, 0.10076227482856025), (2955, 0.09992867135564448), (771, 0.0990152133071964), (1362, 0.09879630290889457), (622, 0.09834036801888263), (1380, 0.09775964057473965), (972, 0.09706156465064195), (297, 0.09634542378478508), (1409, 0.09599985986853841), (2870, 0.09584612728193888), (298, 0.09563818140505624), (4231, 0.09547159863426115), (961, 0.09495414093252268), (1690, 0.09349592884466659), (287, 0.09289611653246505), (2946, 0.09125120893350708), (96, 0.09110820850895757), (1514, 0.09110088000340175), (1566, 0.08897209570582473), (2850, 0.08758874643034747), (2452, 0.08709301211083689), (2455, 0.08627902969695754), (249, 0.08613356952381448), (1989, 0.08537099507454426), (883, 0.08514594382768487), (575, 0.08511781966988238), (980, 0.08507415508323124), (2004, 0.08504660390969802), (4640, 0.0850310802808291), (2701, 0.08465275664766876), (2449, 0.08411208193068989), (2661, 0.08271073808907874), (2152, 0.0819609306625155), (2212, 0.08193649878816961), (1500, 0.08064941590686536), (3631, 0.08020665215050755), (2826, 0.07996295245771673), (3533, 0.07990791303561422), (1492, 0.07841247514205521), (3698, 0.07790832269140445), (720, 0.07729483254180607), (400, 0.07711039612186421), (3231, 0.07516726821979351), (4514, 0.0750717464282234), (1842, 0.07344980206016227), (2369, 0.07322559731038493), (4258, 0.07303310583226108), (1775, 0.07291386993100087), (310, 0.07196890618344791), (3053, 0.07078646593950122), (244, 0.07040647276758821), (2721, 0.07014888383049513), (2354, 0.0697395530344458), (984, 0.06968402000214087), (1902, 0.06959154561856638), (1490, 0.06958201320366228), (1990, 0.06951273550030414), (2373, 0.06941936537425404), (4074, 0.06837674060799775), (3097, 0.06777358228155952), (167, 0.06664499330521044), (1247, 0.06620079430564973), (1940, 0.06561957603747874), (483, 0.06529745078664646), (2403, 0.06455908699742588), (4780, 0.0641622255395267), (1340, 0.06366254846272576), (2809, 0.06332511394721597), (3314, 0.06274975088973783), (3212, 0.06262465920955555), (3695, 0.06238413009573679), (4142, 0.062038253303248865), (2040, 0.06191607821059254), (160, 0.06138674043373837), (1185, 0.061156414915647515), (3566, 0.06095528676071946), (3198, 0.060882183793934626), (3956, 0.06025613897157623), (1665, 0.060092449582770505), (1675, 0.06001786052257369), (3484, 0.05958498109186134), (2932, 0.059534470193961006), (4482, 0.05911518073198031), (3280, 0.05836430846582435), (438, 0.058122900576116694), (1331, 0.057309152491926835), (2935, 0.05689549187431013), (818, 0.05651925932551345), (3043, 0.05636412061264925), (664, 0.05616099655770445), (3675, 0.05604317751640166), (1599, 0.055724242000119675), (282, 0.055592177920957456), (1160, 0.05529059679596281), (3345, 0.05496967156372528), (609, 0.05488413011337002), (2080, 0.05484758242165337), (216, 0.05483711719930828), (1578, 0.05478498348064596), (2174, 0.054609361830742664), (2143, 0.054049399597662015), (4724, 0.05377814119815909), (2663, 0.05279124020868724), (279, 0.052618153033502715), (3439, 0.05237370426213916), (519, 0.052293399310861154), (3537, 0.05216732243868212), (4682, 0.05128387691115992), (1784, 0.051244038876543205), (4147, 0.051089222420375474), (1953, 0.0508827280868303), (496, 0.05086368169387907), (518, 0.05071586723479869), (1667, 0.05036718070717168), (3949, 0.0495515690424801), (3186, 0.04924715896650211), (435, 0.04922541891561779), (3763, 0.04911985526647723), (2702, 0.049083097625667246), (2741, 0.04901997133677016), (587, 0.0488241952372622), (2362, 0.048715264111393784), (709, 0.048588181803317435), (4513, 0.04831493909130018), (1427, 0.04822948729456636), (1928, 0.04810572001258297), (1348, 0.04805476184547329), (712, 0.0478608551649082), (581, 0.046982407886799346), (1510, 0.04662421196629159), (227, 0.04647327997958656), (1115, 0.0460300953488583), (2939, 0.04601096934437668), (1986, 0.04600698312629216), (363, 0.045778267174363105), (1640, 0.04575398102982762), (381, 0.04574456999298973), (2129, 0.04564180540908487), (3116, 0.045619066543467375), (340, 0.04549057805746032), (3794, 0.045354077793410094), (902, 0.04533974337044829), (146, 0.0449885241961201), (3427, 0.04498652890062354), (2058, 0.044929347597693466), (1873, 0.04468202963772139), (4561, 0.044519493788055205), (1910, 0.04444963079506015), (868, 0.04436687986032953), (138, 0.04422660181058248), (2612, 0.0441857485635757), (0, 0.044182909837618724), (1329, 0.044169593177861344), (2348, 0.04414815158917813), (238, 0.043861821129217236), (745, 0.043802144425800084), (3641, 0.04370359626174347), (4703, 0.043600098582515893), (584, 0.04335536133629661), (1017, 0.04306798614667523), (2912, 0.042849256342494244), (1330, 0.04278794156858811), (2571, 0.0425965551108088), (628, 0.042526747290963327), (2239, 0.04251593915724265), (2620, 0.04248239999080603), (178, 0.04235744728384284), (921, 0.04217439098527305), (350, 0.042162743097231004), (3745, 0.042134112569012526), (171, 0.04179986860351362), (2018, 0.04178903149967349), (154, 0.0417683920996938), (3978, 0.04174668456831125), (3048, 0.04167939903792486), (4586, 0.04164249814378917), (52, 0.04151340141122182), (534, 0.04149944451839111), (2450, 0.04147606126037126), (3791, 0.04139220473828372), (1654, 0.04125973651999675), (231, 0.04113367344830434), (2989, 0.041114250395098195), (303, 0.040908766556266206), (2313, 0.040874214518686405), (1134, 0.04085484550489936), (1337, 0.04077572388590551), (4380, 0.04076602677216921), (1079, 0.040644086437188864), (4019, 0.040599824209177834), (1090, 0.040518186105849334), (2255, 0.04037836995063643), (2793, 0.040368202369381365), (4269, 0.040297492926765974), (286, 0.04021052525348198), (1031, 0.04019286655614118), (898, 0.040186236256906135), (1718, 0.040048215719083395), (2179, 0.03995129414045375), (1422, 0.03951597108056847), (4559, 0.039477694500735246), (4103, 0.03938978625994094), (1401, 0.03935556840872515), (3661, 0.03915073641893431), (3591, 0.03913577065380761), (4232, 0.039128072895245246), (3684, 0.039065531083358807), (3288, 0.03904399632812752), (3487, 0.03900978970684462), (3587, 0.03883449563095618), (1002, 0.03873121224936216), (10, 0.03872718750136054), (1952, 0.0385336516826507), (2945, 0.03824105100798963), (3215, 0.038236890961931516), (854, 0.03815876768780154), (1224, 0.03812029097791713), (869, 0.0381166173269404), (3311, 0.038050375911658135), (3837, 0.03790214910861234), (733, 0.037871700257169336), (4124, 0.03747653251571429), (651, 0.037421190374415124), (2076, 0.03739859271923011), (2753, 0.03736607119770831), (3377, 0.037365287910934665), (3798, 0.037271701352626335), (1633, 0.03703869704123151), (1433, 0.036799308836885626), (597, 0.036760666057538666), (2416, 0.036703297309691386), (1205, 0.03665854349869035), (4000, 0.03653249530171039), (54, 0.03650509656362034), (1646, 0.03648549041988481), (1410, 0.036477101470171996), (3741, 0.03643000267964491), (2424, 0.03640691002968954), (149, 0.03635798949244812), (4511, 0.0362946820078418), (2193, 0.036212060129959825), (3984, 0.03620470425671642), (962, 0.03619822603904646), (3906, 0.03619660427729722), (1925, 0.03616282383887284), (4717, 0.036152073799058784), (825, 0.03609687151237079), (86, 0.036072397558646524), (3638, 0.036012504265775146), (2435, 0.03599259278009509), (1824, 0.035966929493905085), (416, 0.03596468061577035), (3750, 0.03595622429338885), (1308, 0.03592866094955373), (139, 0.035870353483769365), (1561, 0.035852094950832546), (219, 0.03572656296650365), (1032, 0.035725882852351426), (3009, 0.035657885796962115), (4100, 0.035465777208288855), (1132, 0.03545269011386029), (1975, 0.03535413120767247), (2206, 0.0352747573975259), (1225, 0.03506621292005705), (2171, 0.03500040634435892), (3687, 0.03493773872081339), (2748, 0.03463784454877568), (1714, 0.03462986554141851), (3720, 0.03451058691903988), (741, 0.0345069176855224), (3260, 0.03435192433750476), (1834, 0.03430120532887065), (1943, 0.03417494133480642), (1623, 0.03401840236299378), (4543, 0.03397069074900868), (4324, 0.03392992106580898), (1733, 0.03389625606298466), (3784, 0.03386003678181227), (110, 0.03378301544092527), (4707, 0.033771524982247655), (1413, 0.033742451376419035), (3262, 0.03351784578429301), (2367, 0.03346829645683298), (643, 0.03343828079963549), (1853, 0.03327479796512401), (565, 0.033238550467269735), (4628, 0.033203246808133365), (106, 0.03318860129859743), (1592, 0.033167246364742525), (2279, 0.03311618290439731), (1489, 0.03311463122783145), (2708, 0.03300606542228858), (3632, 0.032953774365230365), (1222, 0.03291560570518854), (899, 0.03287877962915877), (551, 0.032817471739894424), (3655, 0.032782942320225675), (910, 0.03277148766621963), (4635, 0.03268843289216175), (2383, 0.032665306747681304), (3589, 0.03263710099287999), (4247, 0.03252280340942266), (4761, 0.03244408264976313), (252, 0.032319036052943395), (1419, 0.03231421015986124), (583, 0.032282764735268074), (4774, 0.03213854179549591), (1693, 0.032134506091749664), (1000, 0.032109018677428186), (3473, 0.031981609288947964), (3662, 0.031652393027807764), (4440, 0.03163398036864443), (3513, 0.03160991182783546), (2323, 0.03150834850474142), (333, 0.031357398048458496), (3491, 0.03128114791048766), (4249, 0.03112752616964481), (4480, 0.031118073336802797), (2029, 0.031072605500219196), (2750, 0.03106553434952336), (3953, 0.031026326210868725), (2632, 0.031008828817693443), (810, 0.030931610528918192), (2213, 0.03091935314058366), (4775, 0.030901894964464258), (1445, 0.03071996763205412), (1139, 0.030628912838086247), (187, 0.03059659213322785), (1745, 0.0305689482604968), (3581, 0.03051236194464549), (760, 0.030509099900994843), (4321, 0.030287712697664747), (4283, 0.030225080103316627), (1110, 0.03021147059972606), (3651, 0.030209399028751728), (4587, 0.030145731511397995), (2219, 0.030138126228067007), (156, 0.030002004517901706), (1563, 0.02988461637914487), (1067, 0.029792172408739735), (3857, 0.029774058656801435), (1558, 0.02971148079742136), (1736, 0.02969499787513326), (4632, 0.029639708552013807), (4327, 0.029618149878198705), (280, 0.029570111961295685), (2611, 0.029517493483287728), (1691, 0.029440785053377126), (4190, 0.02925883333373312), (2767, 0.029184346683269996), (2736, 0.029120013475443), (4420, 0.029065762145959365), (34, 0.02902111076072558), (1982, 0.0289199703976423), (226, 0.02884790133523791), (2494, 0.02880923288324601), (766, 0.028489007404994902), (1737, 0.028392091449450752), (3515, 0.028375951019145685), (55, 0.028295311886844126), (774, 0.028095854940589124), (399, 0.02803491793855838), (3299, 0.027934679519454705), (3996, 0.027930751394758285), (338, 0.027920361538639478), (773, 0.027655697909767993), (1513, 0.027655482698186906), (465, 0.02759273845000728), (4568, 0.02748824191598006), (1791, 0.02748076227011114), (1816, 0.027427094904944424), (2649, 0.027321130776001644), (2758, 0.02718349461631416), (2856, 0.027094997201337227), (3168, 0.02694696805822106), (1370, 0.026898888111063637), (4192, 0.026895616236284996), (3479, 0.026894209557514516), (163, 0.02686656619152621), (815, 0.0267893551639638), (2875, 0.026687999990120684), (1183, 0.026631167572756347), (3279, 0.02662642444477439), (4276, 0.026618119006569994), (452, 0.0265946246173194), (2938, 0.026573081869132837), (4627, 0.02656260640179025), (1602, 0.02655526716380229), (3403, 0.026489653691170224), (4487, 0.026454306487820156), (3348, 0.026356888614367472), (2706, 0.026332544449489598), (3726, 0.02630884748809856), (2458, 0.026289987599554226), (1576, 0.02624165113293162), (4630, 0.026226598858838206), (1282, 0.026119888899768233), (1728, 0.026035666628173117), (4015, 0.025921689587784236), (3804, 0.025896964126169895), (1559, 0.025756253259545767), (3869, 0.025725073616317557), (3482, 0.02561471260933065), (2606, 0.025613894118240447), (3767, 0.02530970361071757), (4691, 0.025256269837801472), (4589, 0.02520974054984045), (3293, 0.025170336330015544), (3894, 0.025154055376580928), (242, 0.025109716588023637), (4119, 0.02503908188201214), (4433, 0.024909788491052055), (1374, 0.024898476501124485), (1107, 0.02487054295416575), (4509, 0.02479120289975826), (3067, 0.024782702001532708), (1751, 0.024752490212334253), (1684, 0.024700558670835454), (3183, 0.02469077121676372), (2493, 0.024666401570679286), (1806, 0.024548378778479183), (696, 0.02453279054391782), (2547, 0.02451788534740538), (2012, 0.024492225398316723), (2169, 0.02446283054143719), (2189, 0.02443582286100254), (3668, 0.024423495938001912), (148, 0.02441185348290352), (326, 0.024325093525574923), (1394, 0.02431146830115561), (2218, 0.024277212615951033), (3658, 0.024212090559188527), (1049, 0.0241590064951872), (4718, 0.024154558312618247), (862, 0.02412361434743896), (4647, 0.024049147039080572), (4060, 0.023759386235541972), (4364, 0.02357608995730425), (3597, 0.023564616991293426), (1261, 0.023545018448771157), (3180, 0.02352663623714508), (2298, 0.023515668476991394), (516, 0.02344454080952798), (3835, 0.023380851864104095), (4233, 0.023379818318130186), (4128, 0.023370595589416093), (3696, 0.023336967426728254), (3032, 0.023310803341241578), (4350, 0.023303464394949954), (2306, 0.023262266819018197), (4200, 0.023241102989742333), (3177, 0.02318968318008826), (611, 0.02316752465051851), (2151, 0.023160512408663327), (1590, 0.023133318268287618), (4266, 0.023090602912057417), (2459, 0.023066110824012984), (476, 0.022904199273561375), (2495, 0.022902563280618016), (391, 0.022833199866148027), (1245, 0.02279550280542287), (1488, 0.022760848111787503), (1619, 0.022755246224075244), (2533, 0.022737550483976573), (3270, 0.022688310591477412), (3810, 0.022683247626691227), (346, 0.022678987429658928), (3664, 0.02252282986011457), (335, 0.022502918281132843), (1697, 0.022390038530869388), (4024, 0.02226559543057599), (1725, 0.022253256945354682), (941, 0.022248902580834826), (3969, 0.022227913021281166), (904, 0.022224212829768802), (3521, 0.022208729761261443), (2401, 0.0219474307379169), (1560, 0.021894458926694012), (4642, 0.021885528282947903), (814, 0.021737391817158808), (1016, 0.02159617870233997), (2172, 0.021466599651088616), (295, 0.02145833236519639), (460, 0.021439462294544347), (1452, 0.0213737219771351), (4160, 0.021363889453586228), (1494, 0.0212954043898717), (1546, 0.02124561666492295), (3194, 0.02124113433479905), (4146, 0.021154834061316345), (1064, 0.021141897505294698), (4501, 0.02112198433836589), (2587, 0.02099095832319307), (2686, 0.02096460301922328), (2845, 0.020903390982405685), (2317, 0.02087083263626839), (3343, 0.02082715323602257), (2980, 0.020807649284711238), (2402, 0.02076934860608945), (946, 0.020667656162568576), (4030, 0.020628373504840425), (4132, 0.020570131800656442), (1435, 0.02050037212361251), (2997, 0.02042918055081723), (45, 0.020409319410347963), (775, 0.020394923937558446), (4787, 0.020375344868896954), (3554, 0.020374863458928416), (4203, 0.020357624576422432), (1111, 0.020315718733339462), (593, 0.020258148708311365), (3852, 0.02025726707885643), (3304, 0.020186303222793744), (3858, 0.020169645144932857), (2274, 0.020125812461001365), (4299, 0.02012288780048616), (2006, 0.020071553199969172), (3033, 0.020037312645956935), (3792, 0.020020668756548093), (660, 0.0199936472445069), (3153, 0.019979421907242556), (2048, 0.01992910734113209), (1193, 0.019874673731905768), (4264, 0.019781697002896892), (3493, 0.019781414779523013), (2128, 0.019757891083342582), (4158, 0.019746976849727135), (512, 0.01973679111585066), (2909, 0.019698095461080437), (4224, 0.01963336531171132), (2198, 0.01961659344482318), (3863, 0.019588118766962526), (4664, 0.019582690401513073), (1711, 0.019577833388733083), (1652, 0.019516592188303712), (1746, 0.019476148659186017), (1485, 0.019474157827553157), (3982, 0.019445219595593307), (932, 0.019401442730051448), (1311, 0.019368492323835404), (2996, 0.01936172823730932), (1800, 0.019319420909354935), (2915, 0.019235516398808647), (4070, 0.01915125321664444), (4307, 0.0191333063873692), (517, 0.019064563592767404), (4694, 0.018975525710226815), (172, 0.01897391577710285), (3704, 0.018879614627911618), (1899, 0.018802730189565332), (1688, 0.018801748588976937), (436, 0.01878416403559379), (852, 0.018693579299684043), (2952, 0.01868903145089145), (3468, 0.018682266680922165), (3667, 0.018651562702482295), (963, 0.01858887664189959), (1915, 0.0185788387710479), (2543, 0.01853475135288677), (2815, 0.018524308333603225), (3110, 0.01848462514955817), (759, 0.01846813386897135), (3500, 0.018462142008973427), (1750, 0.01841206808709992), (826, 0.01836815586427521), (4152, 0.018361433076525654), (1799, 0.01834942528261355), (3896, 0.018327576416255324), (2096, 0.018324743220409844), (3354, 0.01831133051416621), (1208, 0.01825448108083817), (4599, 0.018253350390608773), (406, 0.018251575145154172), (3700, 0.01822675312531748), (2215, 0.018197411405463257), (1030, 0.018087667878411408), (1220, 0.018082386348487224), (4033, 0.018029333872395182), (3945, 0.018027163254622985), (4216, 0.018014121690098747), (2792, 0.018006329951368943), (2043, 0.017953496548840518), (3169, 0.01795283764992107), (4722, 0.017935885642600718), (2890, 0.01788129756044434), (100, 0.01787730938227605), (1349, 0.017801654790986353), (2038, 0.017779472297378515), (2438, 0.017752012337284642), (3261, 0.01774151975047362), (2648, 0.017702348600472245), (2141, 0.017699598960381976), (3886, 0.01769218880270416), (1202, 0.017645500120165265), (3539, 0.0176423018656619), (3920, 0.01763111654324491), (4246, 0.017621784576564447), (2569, 0.017612472736170448), (1663, 0.01760007128343821), (3577, 0.017582191187011067), (1595, 0.017557348834737144), (892, 0.01753700208558197), (3895, 0.01748523957875315), (2927, 0.01742600794519258), (1647, 0.017395750301187944), (2456, 0.01737246253330179), (3037, 0.01734391883531694), (3734, 0.01733586230225507), (365, 0.01729114952365143), (3568, 0.017279619882098758), (2165, 0.017263912211895285), (1787, 0.017201948069158833), (4022, 0.01718555235600135), (4290, 0.01714839892022231), (4779, 0.017142448331499215), (2597, 0.01710850701693964), (2818, 0.01709835914811286), (4407, 0.017042944832151005), (4167, 0.017032774476874773), (3903, 0.01697947799645913), (4413, 0.016954116220933825), (3438, 0.01690622633213056), (1747, 0.016880732355004764), (2305, 0.016868347612680253), (633, 0.016839246066785465), (690, 0.016814653685496523), (1583, 0.01679698021447902), (2650, 0.016786548579638225), (3381, 0.016781989964481093), (3603, 0.016713032793015076), (3277, 0.016696880665639846), (2802, 0.01669467191882855), (4651, 0.01668725656825255), (530, 0.01667922497153095), (3584, 0.016638719466869893), (4197, 0.01661480086941221), (1974, 0.016599361754079778), (3642, 0.016517137116202056), (3822, 0.01646806690416047), (1632, 0.016467519909185116), (1917, 0.016443725835129583), (4125, 0.01644359457792618), (4565, 0.016420489232344692), (4076, 0.016379756270184963), (2628, 0.016346500977083), (824, 0.01628521928525294), (4395, 0.016265674619703716), (2667, 0.01625171224533992), (3323, 0.016233894882966837), (2678, 0.01623105494495614), (4376, 0.016216093784731614), (2529, 0.016165520710717696), (4457, 0.01616388468601027), (485, 0.01615111173433277), (3134, 0.01610684410704125), (3060, 0.01601024177537383), (3337, 0.016002024940891462), (3977, 0.0159987470338619), (1898, 0.01599403148660494), (2131, 0.015987026054592804), (4540, 0.015965917424407627), (3430, 0.01594059488634801), (2260, 0.015937799736326183), (4087, 0.0158726962432151), (2062, 0.015859774609203334), (1154, 0.015857888208396977), (3793, 0.015832824077869043), (101, 0.0157467953375864), (494, 0.015701534776525913), (3649, 0.01568868054109101), (1669, 0.01558179353204596), (2017, 0.01556392653036141), (2633, 0.015560129050481354), (4056, 0.015556138324384843), (2614, 0.015534127543129338), (1520, 0.015533379682005669), (347, 0.015513659165773292), (4397, 0.015499168664937543), (1300, 0.015489161639003499), (1805, 0.015445455846589393), (2581, 0.015443975656753834), (1960, 0.015438593812864644), (2617, 0.015386038344544845), (4289, 0.015359731948848635), (3594, 0.015355788001006399), (3803, 0.01533167287978229), (2464, 0.015297898432196932), (2629, 0.01529552931612076), (1466, 0.015286086058502553), (993, 0.015232987028730762), (1724, 0.015158561631153568), (1817, 0.015146775607812515), (3244, 0.015109017306552829), (3772, 0.015100295211010663), (1524, 0.015036856035697896), (418, 0.015002585306392868), (986, 0.014973176264518153), (2963, 0.014934222312693287), (501, 0.014883496568142415), (1567, 0.014882105967685444), (2892, 0.014843437348660747), (4263, 0.014801520141037043), (1444, 0.014779067361597472), (1918, 0.014749710835105196), (1777, 0.01473438700599613), (3287, 0.014707573073201651), (900, 0.014668660696973194), (2203, 0.014651357756619701), (1692, 0.014636289185316807), (3271, 0.014628193900201734), (1865, 0.014608216856618587), (2480, 0.014600771805250745), (37, 0.014600711689325606), (3853, 0.014570487613488342), (2789, 0.014547596666787576), (3453, 0.014542748803127222), (1258, 0.014536732271197547), (4358, 0.014449038089849032), (4394, 0.01444739379541779), (2565, 0.014416723552465855), (917, 0.01441406895919804), (858, 0.014411848364231549), (324, 0.014400238091083333), (4665, 0.014377051262518505), (464, 0.014367843980845434), (2577, 0.01436628607466086), (3376, 0.014301181786467922), (3760, 0.014273899394261783), (390, 0.014268072959703906), (3233, 0.014259181063005189), (44, 0.014257125740107013), (896, 0.014251015749005096), (990, 0.014231885465734031), (323, 0.01422798400125044), (3319, 0.014226107011848569), (4771, 0.014215032603256118), (988, 0.014211770680796125), (1783, 0.014192366477438836), (3078, 0.014178575007799281), (2000, 0.014164547579658404), (1753, 0.014160802034494631), (2081, 0.014143837411761936), (1458, 0.014046713554715694), (2406, 0.014042479896729448), (1443, 0.01403155520192218), (490, 0.014006012571592646), (1295, 0.013952824173261894), (4296, 0.013947082874513241), (3282, 0.013946695131474868), (3610, 0.013931724864019878), (3528, 0.013884330596061513), (831, 0.013870987450272865), (3878, 0.013868427269714578), (2790, 0.013825061513373538), (2489, 0.013803031666227534), (1352, 0.013799654262838294), (4551, 0.013788112463302728), (4155, 0.01378289506065968), (362, 0.013780467820716263), (3899, 0.01375346923985235), (2207, 0.013721178024678024), (2509, 0.013694902536227202), (3815, 0.013688279430197651), (2519, 0.013688267663862996), (2079, 0.01368587339422037), (3393, 0.013669972769721489), (266, 0.013652405296895053), (3076, 0.013649911439326815), (1833, 0.013647517829943365), (4199, 0.013638771701320144), (1474, 0.01359984412031984), (3086, 0.013584322455937001), (3028, 0.013573914934835932), (2779, 0.013565184639877373), (3510, 0.013564409588026214), (4101, 0.01355161487089497), (2922, 0.013513619029166996), (105, 0.013494892670435406), (46, 0.013461552386891892), (159, 0.013450455435263563), (4129, 0.013439907008589788), (1055, 0.013439897884278296), (64, 0.013426240865800347), (1152, 0.013416001281691159), (3208, 0.013380888915624889), (4667, 0.013372353657024959), (2321, 0.013365923119549147), (30, 0.013348899383040734), (3911, 0.013347603602340715), (232, 0.013347294049720725), (4784, 0.013308626768011214), (358, 0.013302487782576663), (2481, 0.013289011513433625), (371, 0.013284888394407009), (318, 0.013263380331284312), (1321, 0.013252718975956689), (256, 0.013251100308003754), (2934, 0.013248976548230953), (5, 0.013241926139433067), (4251, 0.013230026651125194), (4291, 0.013128014185700254), (3258, 0.013125878037637824), (1839, 0.013123969908619896), (1611, 0.013084775242340549), (1244, 0.013083470009440611), (964, 0.013079632265510538), (3368, 0.013066584021145534), (532, 0.013060696177816614), (776, 0.013045882340021702), (94, 0.013042758053353191), (4455, 0.013024108291899409), (2356, 0.012991021565248976), (2185, 0.012979892278870609), (3574, 0.012948713671850682), (4365, 0.012938624517323232), (3805, 0.012932364945772818), (1496, 0.012896660849687448), (2382, 0.012890257030875587), (2338, 0.01288660473981548), (1367, 0.012886583210515211), (1241, 0.012884275718191625), (3442, 0.012883008223378099), (440, 0.012844821544560597), (1162, 0.012842878999054825), (4243, 0.012827898338351261), (787, 0.01279261335203806), (4349, 0.012781275894915085), (1993, 0.01276470327685398), (3910, 0.012762896580217429), (3225, 0.012756031720559682), (1054, 0.012721552188342374), (3511, 0.012720283740016733), (2364, 0.012717392174866544), (2333, 0.012676418589818553), (3222, 0.012664058564997902), (1019, 0.012646378696291727), (493, 0.01260830700539078), (3201, 0.012596937398908045), (4522, 0.012580299622362704), (2696, 0.012578109596877853), (1891, 0.012572441979822407), (459, 0.012555962597099497), (2441, 0.012548924679262944), (1310, 0.012537882197348485), (3757, 0.012537822993377672), (882, 0.012534770016998317), (1906, 0.012512423818755503), (1603, 0.012511639326995025), (1624, 0.012510006131167543), (3211, 0.01250482710747049), (1748, 0.012490532694906487), (2859, 0.01248940803434358), (4097, 0.012487786753017316), (1190, 0.01247545664274792), (2071, 0.012472371194008586), (2858, 0.01247048259066539), (3981, 0.012465597161243876), (13, 0.012461356288042675), (4121, 0.012461206265963188), (4280, 0.01242832937302716), (1679, 0.01242262420851431), (3875, 0.01241100018345649), (3264, 0.012410224801379339), (3394, 0.01240215829751476), (2972, 0.012332012001639163), (2423, 0.012330177892192307), (2968, 0.012328886413277316), (3957, 0.012312456289748488), (3650, 0.012310580846730557), (4770, 0.01230735131043012), (379, 0.012280061531127899), (4593, 0.012279520965551034), (2855, 0.012274425745948527), (3340, 0.012273637989166905), (2289, 0.012243990048110939), (1572, 0.012236508092442415), (1831, 0.012225454993870476), (3269, 0.01222029195623402), (4416, 0.012217447918854348), (1969, 0.012216067481249298), (3898, 0.01217182437041105), (1248, 0.01217110518173126), (2771, 0.012161579394419366), (2347, 0.012147076200706333), (1291, 0.012146394290449117), (2703, 0.012142066653991205), (1973, 0.012129989393189048), (3015, 0.012115026420205751), (1246, 0.012114942581325708), (3434, 0.012103479938049685), (1739, 0.012101361628343684), (3419, 0.012098928420592719), (2717, 0.012083159106478347), (637, 0.012060113127654173), (1601, 0.012053727412793097), (4163, 0.01205287483926038), (2885, 0.012040762563302568), (1263, 0.012039163248396911), (3633, 0.01203649189429467), (1235, 0.012030502293438956), (2245, 0.012015906864076623), (4134, 0.012012410841659908), (1793, 0.012009705801632853), (2161, 0.011994697470563663), (2549, 0.01198313184440753), (3285, 0.011980331466068968), (757, 0.011977962698958185), (686, 0.011969896623130317), (2788, 0.011969280292994756), (2777, 0.011957410800733835), (4091, 0.011949401274990397), (2175, 0.011944134089356934), (4768, 0.011938992506504648), (1957, 0.011938367508091368), (612, 0.011932057050498676), (1959, 0.01190749521106951), (3931, 0.011904251653176517), (1126, 0.011903095509753945), (1442, 0.011897812754121356), (3020, 0.011895368973805458), (3172, 0.011883647055304229), (1269, 0.011881250441610682), (2910, 0.01187587711475432), (2188, 0.011868986523765186), (1895, 0.011855713318703257), (3552, 0.011851256342816105), (3426, 0.011851222956766579), (1467, 0.011846262782340477), (3637, 0.01183840472053258), (4533, 0.011836615671858645), (4470, 0.011834358258495409), (3422, 0.011834018615531815), (3579, 0.01183345921693566), (853, 0.011833062355199982), (4417, 0.0118280876883648), (1526, 0.011815643522544777), (1026, 0.011812355448868106), (3154, 0.011802456989382823), (4126, 0.01180091497213897), (4345, 0.011796940361215933), (2447, 0.011794792518597932), (3779, 0.011789543518902329), (3778, 0.011786595514041846), (1638, 0.01178461643576778), (3616, 0.011783353157727125), (1350, 0.01177588039232468), (2719, 0.01177516630610444), (1649, 0.011773275701090215), (293, 0.011759947335382081), (1571, 0.011756895855455297), (2345, 0.01175551082868226), (2646, 0.011748577064277805), (2800, 0.011728099011502409), (4355, 0.011721686105750277), (3366, 0.011714087483930874), (4751, 0.011703757293796638), (3465, 0.011699787402389318), (3199, 0.011695060109743902), (670, 0.011659694472112653), (1503, 0.011657331904431977), (1138, 0.011652597912691385), (3452, 0.011645244024900915), (2472, 0.011643026815148455), (4525, 0.011640740502486254), (891, 0.01163442896302377), (4696, 0.0116259255212755), (1543, 0.011610305106576674), (4443, 0.011609801272087758), (3200, 0.011608559228189597), (3384, 0.011605665713739968), (3294, 0.011598823173365441), (1150, 0.011597826750646412), (3743, 0.011582212697825448), (3739, 0.011580913636683328), (3062, 0.011576675378844287), (3359, 0.011576626654537552), (1997, 0.011573737065900248), (2600, 0.011572842403664504), (4198, 0.011571487195108657), (2776, 0.011568426363532324), (2594, 0.011554173049878467), (4354, 0.011553792326542002), (2603, 0.011550668538017301), (2051, 0.011550331441781504), (3926, 0.011550259829049274), (2301, 0.011549907391347461), (881, 0.011545799951923421), (2786, 0.01153960183469599), (827, 0.011527734139618061), (3095, 0.011520415341040846), (463, 0.011520332035210622), (4418, 0.011520087114022581), (4373, 0.011517974218889485), (2580, 0.011517271985930394), (4532, 0.011516687515941003), (2474, 0.011509643310768376), (1305, 0.011509089090573908), (1373, 0.011491861041585394), (1120, 0.011491058852286842), (2205, 0.011485116687848495), (3499, 0.011482689532926561), (4094, 0.011482396531013395), (3236, 0.01147761486788355), (432, 0.011476763495393746), (2797, 0.01147285572513245), (1227, 0.011471980769811626), (3042, 0.011460412614941278), (822, 0.011456724200660188), (3686, 0.01145198570652163), (681, 0.011441751942313663), (1045, 0.011439635628310789), (598, 0.011438407498444905), (1756, 0.011426680264262266), (1803, 0.011426008543894242), (3011, 0.01141223245784494), (632, 0.011397285745871392), (4764, 0.011387755915629221), (785, 0.011387723275933265), (3041, 0.011387376817015366), (1668, 0.011386396354206765), (1965, 0.01138494522724496), (3437, 0.011383559298858564), (3284, 0.011382742184981105), (4456, 0.011380646195931803), (4449, 0.011379861610015285), (1927, 0.011377047080302563), (1253, 0.011356404147169426), (2630, 0.011352652818823677), (3472, 0.01134695731916618), (1565, 0.011346227806868656), (1461, 0.011336483102287399), (4427, 0.011329308713345546), (2984, 0.011324862293143247), (4677, 0.011315130234650125), (1408, 0.011312764547312547), (3457, 0.011307544576229974), (1944, 0.011307058029032133), (1366, 0.011288902469958687), (3466, 0.011283087521780371), (1143, 0.011278011590632932), (875, 0.011269145458309242), (2475, 0.011257578238843791), (2693, 0.011251314456105065), (2769, 0.011249415001660405), (3973, 0.011248342710808018), (3732, 0.011238753516189805), (3223, 0.011237110916472877), (3164, 0.011234156049865492), (2059, 0.01123383163551434), (3365, 0.011218851962115403), (809, 0.011217810896087345), (1449, 0.011214517276007389), (1168, 0.011212575421489072), (1232, 0.01121170734615397), (2820, 0.011211473446665251), (3289, 0.011205946026171832), (925, 0.011204209289248935), (1934, 0.011203360595707309), (2764, 0.01119064587273954), (3226, 0.011186577653248542), (3599, 0.011180275761426647), (4588, 0.011178535569804457), (2104, 0.011173547667578467), (3334, 0.011172906538899663), (4734, 0.011168067332708975), (2225, 0.011166335862486696), (1744, 0.011159607917853294), (4370, 0.011159421847487083), (3593, 0.011151196864461869), (1468, 0.011146957554078053), (2651, 0.01114648314559787), (625, 0.0111459138506276), (2473, 0.011142414800905606), (915, 0.01113818143305064), (2971, 0.011137493653977298), (2560, 0.011137013226675832), (1612, 0.011134955921593788), (795, 0.011132851726274652), (2108, 0.011121951631712243), (2716, 0.011120143957689644), (4208, 0.011118872124410435), (3229, 0.011115417429926892), (995, 0.01110549219094693), (2682, 0.011104901980129981), (2916, 0.011102117386980706), (3253, 0.01110139672915985), (4023, 0.011100039793999117), (2331, 0.011090821766522128), (1018, 0.01108623579448056), (1125, 0.011082270571649436), (2109, 0.011080676193522133), (2914, 0.011063579470006312), (1867, 0.01106173692853201), (470, 0.011061582304467571), (3301, 0.011061346979701844), (3408, 0.011048853500976763), (4447, 0.011045151167126389), (1523, 0.011043898889009833), (1080, 0.01103653854272145), (2467, 0.011033114033827117), (747, 0.011025878184499748), (4367, 0.01102228282373834), (2613, 0.011007076661717869), (3611, 0.011004171307590708), (3339, 0.011003836224051001), (2126, 0.011001781854968397), (3055, 0.011000305723560772), (4527, 0.010992248001804154), (2732, 0.010979287916895602), (4406, 0.01097865629041204), (1495, 0.01097568835178451), (3338, 0.01097319264709066), (2772, 0.01095290730810199), (971, 0.010948309380722668), (4529, 0.010940819139906272), (1061, 0.01093322207557766), (2586, 0.010931657590604387), (4038, 0.010928427608527703), (2461, 0.01092444534475038), (3608, 0.010920711041015822), (648, 0.010919037471506325), (2070, 0.010916602745403417), (2532, 0.01091648894553199), (1763, 0.010915620804669889), (3145, 0.01091262106030004), (1204, 0.010912598764008545), (1582, 0.010905168859424035), (2154, 0.010902773255262382), (2395, 0.010882415473062465), (2739, 0.010874585611223318), (4693, 0.01087193919616784), (3758, 0.010871084918121018), (4393, 0.010870150281278537), (2407, 0.010867362466611508), (3881, 0.010863857230602233), (1832, 0.010861064394284548), (2173, 0.010856461689822825), (3486, 0.010854509062380986), (2564, 0.010849408750100254), (4330, 0.010844843557046024), (1870, 0.010835174197506937), (559, 0.010834677457999507), (4488, 0.01083290394567974), (4631, 0.010824153136865886), (2053, 0.010819399601034771), (806, 0.01081748873604647), (777, 0.01081718928567245), (2032, 0.010812872486565275), (3161, 0.010808032493769803), (1575, 0.010799815827933414), (4661, 0.010792331025301466), (2756, 0.01078224482770284), (1215, 0.010781439676801804), (4329, 0.010776458343498715), (652, 0.01077258762161348), (4017, 0.010746671922011475), (1280, 0.010744471298071613), (3250, 0.010743898013102514), (1098, 0.010735122204418052), (4168, 0.010732524075819278), (4800, 0.010731758213878232), (2718, 0.010731572638280873), (2507, 0.010731380264165286), (3813, 0.010727914481848606), (553, 0.010718438964274242), (4643, 0.010716702771812962), (3665, 0.010712917385523373), (396, 0.010712774836568831), (3415, 0.010712759950996792), (2883, 0.010709071451733037), (3283, 0.010707821030013543), (1564, 0.010705226625271411), (1591, 0.010681165949979554), (4136, 0.010679755743974144), (724, 0.010673233698714136), (380, 0.010667532863285773), (2766, 0.010661475606308183), (2836, 0.010660283916815809), (713, 0.010653084187140841), (2838, 0.01065003714538114), (2063, 0.010643631354747779), (2257, 0.010642790711913578), (1460, 0.010623319925397995), (2314, 0.010619358081547962), (2077, 0.010614819137592126), (2950, 0.010614106488022476), (314, 0.010613956099892661), (1890, 0.010613712598287094), (2960, 0.010608002246687296), (1644, 0.010584949983964765), (3313, 0.010584613357410087), (3027, 0.010583721184730858), (4223, 0.010579672102523573), (4408, 0.010577501262586358), (1127, 0.010569442027182937), (2241, 0.010560004294761626), (1065, 0.010558060792829626), (1472, 0.010557087946630642), (3157, 0.01055002926145508), (884, 0.010542130637452796), (4797, 0.010541730223584359), (1314, 0.010536565447447934), (1022, 0.010529899082788795), (4638, 0.010518424216225288), (2276, 0.010514877252131544), (716, 0.010512420337351941), (2183, 0.010505290672367645), (3332, 0.010501900279729413), (1025, 0.01048390580986953), (1009, 0.010474543126224957), (1840, 0.010473187901333014), (535, 0.010467166817996447), (2924, 0.010464729812092028), (180, 0.010460382968637485), (1196, 0.010455379290758314), (1178, 0.010452244492143296), (2976, 0.010446568942548437), (2906, 0.010445152802274312), (4422, 0.01043877803406525), (779, 0.010435379960506658), (1588, 0.010433441138203737), (2374, 0.010433067334539966), (3512, 0.010432857968196242), (999, 0.010429603613634085), (2642, 0.010426445730939305), (455, 0.010423893985858669), (4201, 0.010409511648657966), (3872, 0.010409335427915195), (2404, 0.01039773430720553), (3170, 0.010397473631849615), (758, 0.010389299700980799), (4763, 0.01038819597479693), (3789, 0.010387039086277462), (2723, 0.010369828379983653), (4429, 0.010359148832965265), (421, 0.01035737529004415), (860, 0.010350319271178084), (4088, 0.010349817918235582), (2847, 0.010342134552515429), (2796, 0.010339466406083776), (2925, 0.010334955793980447), (2190, 0.010326484740885336), (2123, 0.010321707225190227), (4476, 0.010317568601238093), (1418, 0.010315263252034365), (3740, 0.010315121797883922), (1429, 0.010311804492873519), (3517, 0.010310043425777847), (919, 0.010309762372737605), (4111, 0.010309451395478175), (4371, 0.01028823615769242), (1250, 0.010286819822315928), (2148, 0.010284840968260541), (620, 0.010280964662239725), (404, 0.010271806668068382), (710, 0.010270401184689486), (3821, 0.010269940511233342), (3545, 0.010265641301807425), (834, 0.010255488032698712), (2962, 0.010254562821061285), (1128, 0.010253809795868053), (3795, 0.010253636014869857), (4127, 0.010252433637994683), (3703, 0.01025014448918336), (1941, 0.010246940724764264), (4051, 0.010244983823092586), (1924, 0.01023042331200814), (975, 0.010224077439771495), (2609, 0.010222838097908516), (1170, 0.010211732861744502), (2365, 0.01020810750382163), (3088, 0.010196571157707258), (4257, 0.010194117175314009), (3126, 0.010188691577933813), (4205, 0.010180282146492341), (386, 0.010177604859463524), (2332, 0.010171075552659484), (1963, 0.010164137811164884), (940, 0.010164011850670835), (1181, 0.010162882915132954), (4139, 0.010160291007831362), (3833, 0.010160152525020666), (2091, 0.010159909252426016), (2670, 0.010137127343445823), (1342, 0.010134072341867775), (1448, 0.01013185512534329), (2738, 0.010131620324813441), (1273, 0.010130398776333427), (2659, 0.010119967883442387), (1758, 0.010114446330061201), (4567, 0.010107556133542382), (1770, 0.010102810703340556), (1038, 0.010099413532746791), (2687, 0.010098566759468372), (3410, 0.010091004007326309), (482, 0.010090476589232171), (3504, 0.010089765544693603), (2022, 0.010088874791618314), (2358, 0.010085944993758408), (1535, 0.010083564568007929), (1007, 0.010082410706077167), (408, 0.010082348008330973), (1470, 0.010082103800601204), (1731, 0.010080066552282265), (1508, 0.010079385979346907), (970, 0.010074210658418462), (1674, 0.010073370021516464), (3879, 0.010070054096229065), (4016, 0.010069245023877243), (1187, 0.010068999176928157), (3989, 0.010057535008798187), (2539, 0.010050512109694681), (2891, 0.010050320434783856), (3440, 0.010049955879346009), (140, 0.01004875086910286), (1175, 0.010048540423363662), (2936, 0.01004016434323092), (4211, 0.01003469829874768), (4483, 0.010034576483873778), (4687, 0.010030218868092128), (958, 0.010026676541504943), (968, 0.010024612008861348), (2863, 0.010021014331761172), (3690, 0.010015447361833065), (1884, 0.01000853927953977), (1046, 0.010008284181763102), (2754, 0.010004375889278428), (2250, 0.009990006426536085), (1194, 0.00998939508401324), (845, 0.009988208065149664), (2666, 0.009985492990676493), (4436, 0.009983157263948196), (3520, 0.009980519965539685), (991, 0.00997500212939581), (4624, 0.00997440585129941), (2824, 0.009962569745616209), (3644, 0.009959588216884495), (4531, 0.009954781068585663), (3, 0.00995415914851621), (1651, 0.009951486674881153), (4295, 0.00994677299819189), (3071, 0.009946601242076882), (354, 0.009943257247935945), (1844, 0.00994173412673642), (2610, 0.009940318971806902), (1440, 0.009938982489672897), (4590, 0.009927851980225607), (3219, 0.009921787806451761), (3923, 0.009921080779394353), (4430, 0.00991951565833847), (2710, 0.009918828200566544), (4402, 0.009918522308180572), (2695, 0.009909938688714374), (4749, 0.009898289248179877), (536, 0.009896109551175668), (3040, 0.0098915277967969), (3918, 0.00989004871741841), (762, 0.009877228801858162), (965, 0.009864254655707151), (2730, 0.009862794725090104), (1135, 0.00986176695535685), (714, 0.009860903184637969), (717, 0.00985583656770547), (2957, 0.0098462669716677), (4475, 0.00984538953550947), (4062, 0.009841195465429524), (944, 0.009837896554254901), (2060, 0.009837383818327664), (1569, 0.009831923635993693), (3374, 0.009830204659395615), (3530, 0.009830174457069537), (1457, 0.009820333093269814), (2150, 0.009818922840774739), (4573, 0.009818617310366845), (1087, 0.009818516180559284), (4594, 0.009817576688691135), (3839, 0.009816100580973213), (2224, 0.009814780755397), (677, 0.009812149646981601), (3966, 0.009811641298062116), (4626, 0.009809428207882947), (2707, 0.009804540135830481), (4221, 0.009803079984205647), (801, 0.009800872911447772), (2953, 0.00980082656870695), (3322, 0.009799956331370452), (2585, 0.009799569731643178), (82, 0.009797015056004776), (491, 0.0097949519153239), (2887, 0.00978868501600533), (360, 0.00977811251291071), (4308, 0.00977265504406808), (2269, 0.009763236282722172), (2959, 0.009758394493451155), (248, 0.009754946460816885), (2578, 0.009741022750883075), (2469, 0.00973695962027956), (1226, 0.009733603900842212), (3093, 0.009729138311220135), (1945, 0.009725963353596524), (2428, 0.00972390829671062), (590, 0.009722278188761044), (2304, 0.009714102400540891), (929, 0.00971177425371643), (694, 0.00970198958005597), (2546, 0.009699273148381921), (1156, 0.009698945303647124), (564, 0.009696828628101317), (2240, 0.00969648208082259), (4460, 0.009678266117829648), (4704, 0.009675498925034791), (645, 0.009673022154952967), (3085, 0.009671579215378975), (844, 0.009666027592740926), (2166, 0.009665285757563417), (1254, 0.00965060171756313), (1786, 0.009650303323815683), (2864, 0.009639135347355037), (4739, 0.009638871490115981), (222, 0.00963673578843635), (3727, 0.009629851269940327), (4719, 0.009629490238967784), (3431, 0.009620393558671048), (1781, 0.009613402278008188), (3489, 0.009610444853653106), (3275, 0.009606818773848877), (4453, 0.00960335377221276), (2941, 0.009603252279504131), (1850, 0.009599834375614187), (3846, 0.00958855545992564), (1998, 0.00958620232039603), (2170, 0.009585995635770849), (3873, 0.009584855533462215), (1727, 0.009584146062816514), (1010, 0.009580258983921806), (2124, 0.009579647804322964), (1512, 0.009578234376325604), (761, 0.009573512843063726), (2515, 0.009572865658608688), (3267, 0.009564863946013028), (807, 0.009562413931077466), (2961, 0.009562305559563826), (647, 0.009561074114642396), (1596, 0.009559573461732536), (377, 0.009558798833593866), (1905, 0.009557497089240771), (544, 0.009553563572207685), (1105, 0.009553257644732482), (3834, 0.009547723876546137), (3006, 0.009544322440989267), (2030, 0.009543327330011786), (462, 0.0095426886401464), (1084, 0.009541406376704639), (3556, 0.009538819525509149), (3109, 0.009536752208712482), (918, 0.009531520837771852), (312, 0.0095310325424017), (3944, 0.009530496840677999), (2234, 0.009525489864329538), (3507, 0.009519910183417496), (3850, 0.009511526643886669), (65, 0.009509715554193514), (2318, 0.009504054816913108), (4331, 0.009502134312621565), (680, 0.009490461214030164), (4107, 0.009489875831956986), (3596, 0.00948948305739807), (4378, 0.009483335094001368), (3862, 0.009481345089603424), (4032, 0.009478423161083806), (2825, 0.009476615802300779), (3785, 0.009467130698433987), (4188, 0.00946677200455852), (1694, 0.009459468324985586), (1116, 0.009459010797951094), (4637, 0.009456583256579209), (2106, 0.00944467661133044), (3297, 0.009430075414398187), (1051, 0.009427487778985538), (982, 0.009425262318391858), (4194, 0.009424076855702852), (823, 0.009423789370898265), (924, 0.009417364434815535), (397, 0.009414944540602295), (477, 0.009414783248772082), (2147, 0.00941477041883185), (1507, 0.009413132661085186), (1036, 0.009409829487837792), (1035, 0.009409498175973932), (3369, 0.00940608250436131), (528, 0.009403004968932798), (3091, 0.009402412028792695), (996, 0.009402089512140624), (4058, 0.009396918397688903), (850, 0.009396317640084556), (562, 0.009392795506258239), (808, 0.009392132733104012), (979, 0.00939085939641533), (1760, 0.009388571108617669), (3114, 0.009384295245265952), (1483, 0.009383796388646344), (3718, 0.009382860240984083), (751, 0.009372626184043777), (1209, 0.00937035099313499), (4348, 0.00936938067952722), (4663, 0.00935244588173299), (2553, 0.009352072195084759), (2568, 0.009347643355251178), (2573, 0.009346787559579258), (2808, 0.009345592755410739), (2265, 0.009335690959032122), (510, 0.00933454469283292), (3173, 0.009333701835420195), (3764, 0.009328412061310663), (1473, 0.009327809067902194), (3679, 0.009314912409483442), (2388, 0.009309353343289941), (2760, 0.009306155443102856), (3237, 0.009305334455432237), (938, 0.009301317187965048), (879, 0.00929544307738547), (2500, 0.009292597116355734), (4230, 0.009284738778438693), (3756, 0.009284707663657571), (1862, 0.009275075558764704), (2584, 0.009267345124485432), (4649, 0.009262090246234462), (104, 0.009253850611167302), (3541, 0.009242970726132706), (3243, 0.009242111395525611), (4360, 0.00924083475722931), (3073, 0.009234963331776149), (1809, 0.009231097127050647), (4409, 0.009230494068460274), (4067, 0.009230391661846905), (1328, 0.00922906208748359), (545, 0.009226939052157195), (2468, 0.009217378260103761), (3117, 0.009212170888172595), (4778, 0.009210005170605114), (3220, 0.00920590601169146), (2026, 0.009204402760763935), (4530, 0.009203437580121597), (1338, 0.00920154904855744), (2049, 0.009198204757862798), (1158, 0.009197463568345741), (3809, 0.009194464015018614), (538, 0.009192883580876332), (2872, 0.009180734277219259), (987, 0.00917788228272846), (2627, 0.009177520374804881), (2884, 0.009173293859185722), (3666, 0.009173051418379458), (1618, 0.009159731389759403), (2045, 0.009158545805850406), (3941, 0.009152132874298466), (693, 0.00914172453317592), (571, 0.009136800445846704), (1416, 0.009133799421896873), (3149, 0.009132792249289262), (3234, 0.009120645257799181), (542, 0.009118529901498081), (3316, 0.009116020160618719), (851, 0.009115188692951507), (1102, 0.009108608840289842), (2398, 0.009105976770636395), (1820, 0.009105764269392256), (3257, 0.009104743008966899), (1188, 0.009103338518094672), (2502, 0.009102003514462768), (3717, 0.009098764428257236), (2983, 0.009091899177244987), (2359, 0.009090670763575332), (3516, 0.009088775737572531), (1454, 0.009077049412343812), (1052, 0.009076519207273849), (1779, 0.009071260539870915), (1829, 0.009070974140495595), (1919, 0.009061312957716302), (3052, 0.009058725435122473), (2440, 0.009037572987092995), (4157, 0.009029527904070385), (1456, 0.009028008699536447), (1921, 0.009021029377272158), (2325, 0.009016447431072942), (737, 0.009007389050453292), (3000, 0.009006454362194573), (4396, 0.009006290138893336), (1309, 0.008994830064168884), (2773, 0.008987151370992878), (3454, 0.008975987511113403), (2896, 0.008970373200849625), (2522, 0.008965860650799845), (1664, 0.008964820853667845), (2677, 0.008954618879064676), (376, 0.008954483102227389), (2381, 0.008954076316750815), (2107, 0.008953632334231113), (2291, 0.008952076984444734), (4287, 0.00894600469994113), (3122, 0.008944913553099914), (1236, 0.008937398372830868), (2854, 0.008933207798220578), (3176, 0.008923309560813457), (135, 0.008914772279858256), (3120, 0.008910949884895873), (4084, 0.00890922716152498), (2794, 0.008909050407806667), (1351, 0.008908956763282926), (1635, 0.008908939813215153), (3330, 0.008905995916138273), (3962, 0.008894525812906381), (2558, 0.008886109839105228), (867, 0.008886080851227987), (4549, 0.008871307242493163), (3104, 0.00886203072776837), (1281, 0.008854225186134348), (2636, 0.008849712713601507), (2451, 0.008823009446640318), (1752, 0.008814409661993608), (4437, 0.008805039260487715), (1556, 0.008781274232025668), (1938, 0.008764717050975429), (4542, 0.00875703601831241), (1145, 0.008755241939420753), (4178, 0.008750024046252372), (1324, 0.008745072671946325), (2138, 0.00874153078596315), (1376, 0.008738709731832694), (1151, 0.008737002834780206), (591, 0.008732863547033452), (378, 0.00873034275475096), (2813, 0.008721800584946074), (4099, 0.008715264066673816), (1167, 0.008707865543040474), (3915, 0.008689847583776455), (1579, 0.008689393836061581), (3074, 0.008687462654107431), (2684, 0.008684466149080427), (457, 0.008678962902130894), (4320, 0.008677055611043136), (974, 0.008674033787816922), (2414, 0.008673345575584732), (756, 0.00866999866147155), (4557, 0.008668000199557973), (3820, 0.008666452502111876), (2791, 0.00865839533441225), (3780, 0.00865515661637973), (621, 0.008646949214238985), (3722, 0.008636670995107756), (4615, 0.008634468305245311), (2277, 0.008631885371258802), (4170, 0.008622235117942748), (3443, 0.008618684873417997), (4073, 0.008615957240242172), (3140, 0.00861014136607748), (1749, 0.008609127207212625), (1828, 0.00859054806541747), (1660, 0.008589783684004476), (4738, 0.008585584168953933), (2195, 0.008585146393448678), (3518, 0.008579590996002194), (2604, 0.008572869840546884), (2311, 0.008558638602710248), (2187, 0.00855645562857339), (3759, 0.008553945806339466), (3917, 0.008546248858311232), (3685, 0.008541730399564487), (3131, 0.008537414996243328), (973, 0.008533626592282358), (2647, 0.008532051030172735), (4189, 0.00852350807447898), (4361, 0.008522431909297922), (1384, 0.008506502238387807), (4752, 0.008499463857166378), (2153, 0.008495982411691493), (3474, 0.008493229403600703), (4174, 0.008483171688517867), (284, 0.008479854902109833), (912, 0.008476671193526646), (3380, 0.008467702079114039), (4179, 0.008456105692560917), (1255, 0.008453951718966563), (1005, 0.008441756936304709), (1414, 0.00844171024852648), (2117, 0.008432040030143704), (4537, 0.0084138732771073), (2726, 0.00841100778298504), (3433, 0.008395834914638715), (811, 0.008384396991897618), (2197, 0.008381475128130653), (3492, 0.008380878714879962), (638, 0.008374191414792644), (283, 0.008365017255949379), (2704, 0.008348020184756912), (83, 0.008340133538009543), (2130, 0.008323841486197426), (2299, 0.008320975697016213), (2118, 0.008316842685364053), (3536, 0.008315974138261618), (1540, 0.008294736452214567), (1122, 0.008293910956276782), (2422, 0.00829389436358601), (2385, 0.008293210467403809), (1666, 0.00829240697849747), (2336, 0.008291352630603854), (3209, 0.008289955960924415), (1047, 0.008284216891116017), (3247, 0.008268193916315432), (2545, 0.008264839817520256), (576, 0.008258786971941576), (3635, 0.008258301205453324), (4162, 0.008254842503119118), (3711, 0.008246469260664248), (2668, 0.008223909931257812), (116, 0.008222684367107562), (1393, 0.008221512889901394), (2822, 0.008221241514005245), (2470, 0.008214955378885634), (2214, 0.008207364891299144), (1335, 0.008206842732109764), (2052, 0.008199590051651842), (4235, 0.008196244326293066), (3761, 0.008170940692982836), (1075, 0.008168869029921746), (885, 0.008165390621344552), (272, 0.008164891885403135), (1199, 0.008164649737925994), (2217, 0.008158114916513406), (1861, 0.008156829556899278), (2065, 0.00815442688938657), (793, 0.008152523277496097), (3356, 0.008141556567189822), (4206, 0.008137522156642998), (703, 0.008137063245485392), (1518, 0.008136866665564709), (3925, 0.008128708158235373), (1099, 0.00811706994206285), (4210, 0.008110384549661198), (3890, 0.008096888038064602), (3702, 0.008091699986366684), (2036, 0.008088979739121475), (2380, 0.00808587237444774), (887, 0.008085235377854418), (2355, 0.008076639808669444), (471, 0.008071381366334547), (1021, 0.008062076911653442), (935, 0.008061886649699878), (4799, 0.008056672089263547), (3994, 0.008055607738092933), (3409, 0.008054952061936353), (2496, 0.008049494230054154), (239, 0.008048944508405197), (3880, 0.008047205081410526), (413, 0.008044168434478768), (682, 0.008036158104638392), (4786, 0.008033056245446707), (2513, 0.008019843637054826), (2832, 0.00801353465522166), (3609, 0.00801152415018061), (4020, 0.007996035995375324), (444, 0.00798667047568829), (653, 0.00798550141499166), (4701, 0.007979602876162756), (3179, 0.007973630414913767), (816, 0.007964847722571264), (567, 0.00796397053462787), (630, 0.007939757091531434), (886, 0.00793698360108203), (2337, 0.007934197627103881), (1475, 0.007928498670474323), (2527, 0.00792766527346813), (2376, 0.007926114606588675), (2810, 0.007921938825640963), (515, 0.007914880705018612), (4229, 0.007914349564085408), (1655, 0.007909892311590923), (61, 0.007894541895070705), (1050, 0.007885733543260826), (2643, 0.00787670772827993), (2657, 0.00786104632737917), (1137, 0.007855378235360937), (1400, 0.0078440417040485), (405, 0.007841387697870114), (1372, 0.007840244813954884), (3064, 0.00783729655662676), (3816, 0.007836858479902903), (3456, 0.007835173927218764), (4278, 0.007828144447269862), (1123, 0.007826616546347677), (4081, 0.00782019185421765), (2621, 0.007815140517618557), (4006, 0.007805116044105721), (4265, 0.007800351964000292), (1689, 0.007788858857127275), (629, 0.007778932066632616), (3010, 0.007776653338771864), (4671, 0.0077604863931276385), (3300, 0.007760276163204369), (3404, 0.007755974531449994), (1594, 0.0077552233143087426), (3065, 0.0077467367003070725), (1216, 0.007745236665463628), (4335, 0.007738761632883418), (3107, 0.007732571813782758), (445, 0.007723615826036799), (1499, 0.007722022508272967), (4796, 0.007719431891254297), (2846, 0.0077134364101909166), (705, 0.0077056736870641926), (2054, 0.007696753963899745), (1796, 0.007693171114369352), (688, 0.007687355741755112), (3947, 0.007672831402748573), (907, 0.007672451238988426), (2893, 0.007653401796830989), (4697, 0.007652818320705027), (3350, 0.007652064877525453), (2742, 0.007649931975774649), (2514, 0.007647712928121869), (4421, 0.007632960658867299), (2097, 0.007609131508579422), (1207, 0.0076000482415926555), (3444, 0.00759987535481096), (2554, 0.007592259542527132), (1641, 0.007582476784933891), (1299, 0.007581528788244157), (555, 0.007577465797164029), (4226, 0.007561348666008388), (2940, 0.007553830536033863), (3044, 0.007542497895082993), (1097, 0.007536785756963127), (2384, 0.0075254723772147526), (1798, 0.007508200411882741), (1469, 0.00750320229193969), (4570, 0.007501176757510375), (50, 0.007488330689334876), (1835, 0.0074757355858638555), (2878, 0.007475730362511493), (2158, 0.00746670166082225), (1267, 0.007466081711804783), (3612, 0.007453270536892294), (3003, 0.007453068411221573), (4089, 0.007451160684235439), (2759, 0.007441158799475379), (942, 0.007438535368778714), (4495, 0.00743781706788522), (2981, 0.007434745638699746), (269, 0.0074320857328108725), (2698, 0.007428164542327032), (4781, 0.007426370731148655), (1260, 0.007420518457217852), (753, 0.007402365501194073), (2888, 0.007396405863504804), (665, 0.007396232121964696), (4658, 0.007389743215261381), (4629, 0.0073750816703908526), (2521, 0.0073729707004137005), (4604, 0.007361105550182445), (4256, 0.007360474753862985), (1717, 0.007356739968542171), (3124, 0.0073521630699407165), (4161, 0.007352022621038307), (4451, 0.007344609721535642), (1417, 0.007339348268979316), (1551, 0.007330258847477193), (817, 0.007313758451631954), (1780, 0.007311805541567897), (3509, 0.007310204798968987), (3771, 0.007307731645894585), (4415, 0.00730725940522106), (2047, 0.007297981625640634), (4046, 0.007292971350117642), (792, 0.007267042816718163), (4059, 0.007249427933997542), (344, 0.007244211177689292), (3132, 0.00724367660148166), (3948, 0.0072385467422968865), (1980, 0.00723612773198568), (957, 0.007230711661067065), (3506, 0.007224970765128219), (3714, 0.0072220849659387215), (1996, 0.007214108278926417), (2949, 0.007206438405500245), (4564, 0.007198200010883109), (3207, 0.007179166813924713), (3021, 0.007137527033255851), (4048, 0.007131673071412061), (3634, 0.007128823979199476), (3412, 0.007115782031931571), (3940, 0.007110737119376262), (540, 0.007109123996405058), (600, 0.007096191649573157), (4794, 0.007096081089352195), (443, 0.0070958843924628), (4506, 0.0070847161348856335), (3228, 0.007080950301048857), (3972, 0.007059852052319263), (2728, 0.007049799007107751), (2431, 0.007033045832528574), (3623, 0.007022144694286848), (1767, 0.007012400783834245), (4500, 0.007009257793226652), (2782, 0.006996216617964257), (2460, 0.006982672516189542), (261, 0.0069766103726751115), (218, 0.006965172628515131), (3481, 0.006958106326917106), (731, 0.006954902456456226), (2159, 0.006937605867739276), (345, 0.0069024161123053375), (372, 0.006899414962119758), (2035, 0.006897549989002571), (497, 0.0068925165306001086), (1180, 0.006884484745464985), (3077, 0.006883187638176488), (3306, 0.006871817330294337), (3968, 0.006845330700636042), (3826, 0.006844419992157405), (2622, 0.006838819727899599), (437, 0.006826472804788924), (355, 0.006811695058521746), (3397, 0.006807951963750664), (2874, 0.006798868032159283), (4313, 0.0067884670809329915), (594, 0.006784567734911802), (2286, 0.0067830217530603625), (3218, 0.006782361424398999), (866, 0.006782292433402649), (1425, 0.00677515090469899), (2745, 0.00674911783757179), (1479, 0.006747870271957551), (1369, 0.006742435545440036), (1272, 0.006741266925415547), (1537, 0.006710616855475771), (1788, 0.006691381462603688), (669, 0.006687973786299392), (4740, 0.006668945948311788), (3195, 0.006668064706020419), (4783, 0.0066624150084652655), (3098, 0.006659769664491926), (2237, 0.006658947916204391), (3746, 0.006657749919463925), (1860, 0.006649895551183257), (122, 0.006646081811399803), (1203, 0.0066374071954855875), (58, 0.00663437169163939), (1577, 0.006632014064885648), (3361, 0.006629237737931722), (3774, 0.006624762709102701), (1076, 0.006624081193398513), (446, 0.006620169745004225), (213, 0.006612951396980715), (2235, 0.006610203424711475), (4069, 0.006609960963764559), (3488, 0.006607966683745363), (387, 0.0065986627079134596), (1133, 0.0065974042737223775), (3329, 0.006593878963870545), (1794, 0.006592772449829416), (1506, 0.006568291632749618), (1586, 0.0065664511618757394), (3455, 0.006562920077282814), (4300, 0.006559240784647091), (580, 0.006556496200258075), (2201, 0.006553597627724681), (447, 0.0065520719515138465), (3014, 0.0065503460816040545), (433, 0.006541526006554711), (2964, 0.006533021705754784), (81, 0.006531527903722409), (164, 0.0065313119515766375), (1033, 0.0065182525061141736), (732, 0.006517575459458122), (3618, 0.006515159772995859), (1926, 0.006505433117222225), (2064, 0.006503130112334069), (4733, 0.006501437808827938), (2556, 0.006499195407330155), (4732, 0.006492591111612961), (478, 0.006489955494794052), (1058, 0.006486709496153995), (943, 0.0064844159485832505), (307, 0.006482178046256414), (1118, 0.006482042869671529), (2196, 0.006481303664125498), (2391, 0.006479513597843852), (2146, 0.006473285380361051), (1894, 0.006473058713447202), (1636, 0.006472297817051491), (2283, 0.006471994175316805), (4425, 0.006465005207801576), (4680, 0.006462144322894462), (398, 0.0064606101160236545), (166, 0.006456287782672778), (2357, 0.006453973756682444), (3569, 0.006453287197532621), (2879, 0.006452812713850186), (4554, 0.006451775008695142), (626, 0.00645092986389124), (3572, 0.006448944550604367), (200, 0.00644852158817383), (1320, 0.006445477310823965), (449, 0.006434058499977544), (201, 0.006433046880296718), (1604, 0.006428523248788758), (601, 0.006427042770912192), (2688, 0.006418235701359659), (4748, 0.00641508211604083), (513, 0.006413230792957069), (425, 0.006410564236565622), (3505, 0.006410369798404827), (1771, 0.006409319428782355), (3799, 0.006402188446913381), (3058, 0.00639888179687276), (908, 0.006392512608623096), (969, 0.006388976169000759), (468, 0.006387458432785426), (1845, 0.006384945591075672), (1722, 0.006381242921419946), (1757, 0.006375818976644619), (76, 0.006373711667942605), (277, 0.006368935387810371), (1230, 0.006366500701050731), (4608, 0.006363228593192279), (4207, 0.006352003194947848), (1289, 0.006351676989988626), (1484, 0.006347389117573439), (1553, 0.006344581296595691), (215, 0.006344516525879935), (1092, 0.006340701494867447), (3331, 0.006337252231622345), (271, 0.00633670528546279), (3423, 0.0063365307153842206), (596, 0.006336265494268444), (1568, 0.006334756172084092), (3167, 0.006333187834912639), (322, 0.0063273370547225335), (2405, 0.006317820635178278), (1275, 0.006314810501357683), (3752, 0.00631334353363818), (134, 0.006313342050741552), (3954, 0.006311904119327081), (3676, 0.006310287641803355), (1909, 0.006306424360801859), (2088, 0.0063060639687289866), (4282, 0.006304956028690233), (659, 0.006298710587575838), (487, 0.006297615588055459), (2002, 0.006295527915399705), (1346, 0.006289261748045091), (2267, 0.006288525473416915), (2583, 0.006287509617739159), (1826, 0.0062863553880691675), (2046, 0.006284491720136603), (1103, 0.0062830533446477455), (240, 0.006282701216137323), (873, 0.006276575163172131), (2990, 0.0062734173174803), (4186, 0.006273242947181559), (41, 0.006271012080674729), (4368, 0.006263611260580094), (1792, 0.006262633727856806), (2412, 0.006260813270655955), (3192, 0.006259999032293041), (856, 0.0062559779877916595), (3128, 0.006254277471786709), (1897, 0.006254035180098136), (1628, 0.006252356099244015), (2409, 0.006250703675030666), (863, 0.006250641181378249), (3204, 0.0062478480320611665), (3232, 0.006246876891792415), (1083, 0.006244475203730778), (1702, 0.0062412744243171185), (2842, 0.006238533064214476), (4670, 0.006235538122104745), (936, 0.00623549471296239), (2371, 0.006233237883646016), (1063, 0.0062305675252093936), (4389, 0.006229950423289608), (666, 0.0062281654971751334), (1266, 0.006226165361892334), (768, 0.006225066806648694), (204, 0.006224228805908501), (2588, 0.006220132098847554), (523, 0.006219946143617258), (1020, 0.006218774352038257), (739, 0.006217453980782109), (3595, 0.006216317680388471), (654, 0.006215509255904931), (602, 0.0062141656210843495), (1699, 0.00621410235069677), (2780, 0.00621271709687944), (2783, 0.00621099123623901), (2897, 0.006204866344402653), (4339, 0.006204858468546322), (2275, 0.006203545906715489), (153, 0.0062004559264605946), (29, 0.006198941744507415), (755, 0.006194881705704696), (472, 0.0061942822514691525), (388, 0.006193564053516383), (1617, 0.006191970082056934), (1390, 0.006188822372216816), (2635, 0.006187447314493511), (2988, 0.006187307690591616), (3549, 0.00618628811291725), (976, 0.006184461430292875), (2853, 0.0061831995501894195), (1713, 0.006181979880885984), (4005, 0.006181223441783006), (2676, 0.006180859823484217), (127, 0.006170778675856074), (2575, 0.006170094901481107), (782, 0.006167388469650291), (4767, 0.006164815616927071), (3151, 0.006164566552167687), (4492, 0.006162874293014699), (4077, 0.0061625842283747215), (3336, 0.006161834054480809), (1271, 0.006160869967446544), (735, 0.006160403805402479), (1059, 0.006158260393457881), (573, 0.006154161783485342), (3349, 0.006152717077449889), (2751, 0.006150273409687551), (4053, 0.006148309428429868), (259, 0.006146224140717108), (2425, 0.006145870800183749), (3372, 0.006144574882831143), (3400, 0.006143519757633077), (876, 0.006140964496577153), (3561, 0.006137833062204518), (4753, 0.006137677511186081), (451, 0.0061376748497969), (2567, 0.0061376578089614355), (4756, 0.006137533903138519), (3600, 0.006135805301050383), (3942, 0.006134267389548954), (2181, 0.006133810928032952), (203, 0.006131546071094433), (1625, 0.006131207815076128), (1893, 0.006130812426995361), (1956, 0.006130048630991899), (880, 0.0061299309182996), (547, 0.006128312989600043), (1991, 0.006125875442726902), (2014, 0.006124715558529192), (3101, 0.006124638397283417), (821, 0.006122265896957987), (3050, 0.0061128078820987765), (2157, 0.006112141616809879), (3652, 0.006111491299389489), (1397, 0.006111428254940433), (603, 0.006110985311625571), (711, 0.006108742989493094), (2868, 0.006107196219905337), (1013, 0.006102370070746621), (1399, 0.0060971593002839795), (2705, 0.006096915896110214), (1930, 0.006091111272183995), (2445, 0.006090846392601433), (2817, 0.006085497610095622), (2084, 0.006084084315804843), (2534, 0.006076505754654513), (1838, 0.006075725732835387), (2125, 0.00607449467800413), (1073, 0.006073325512407561), (3002, 0.0060705295497016564), (959, 0.006069185743156232), (4650, 0.006066783458323547), (3081, 0.006066046992986653), (188, 0.006064195513092442), (4052, 0.006064067126874911), (3274, 0.006063107183006193), (3905, 0.006062716987140334), (185, 0.0060611288437252605), (3859, 0.0060577427074168634), (2644, 0.0060540013470795), (2320, 0.006052079687177863), (99, 0.0060492421555949916), (1968, 0.006047164443190767), (1815, 0.00604215992027324), (4621, 0.006038455279588938), (2284, 0.006038262974268763), (1653, 0.0060344545164174365), (3573, 0.00603223187407566), (2675, 0.006027972647185975), (4343, 0.0060262121554322525), (3671, 0.0060232554536061135), (2400, 0.0060193114313026866), (3958, 0.006017284211888789), (931, 0.006015177469105763), (2137, 0.006011181886870099), (736, 0.006011067598778778), (2762, 0.006009437783805823), (1001, 0.006002445072761312), (2596, 0.0059980985261205684), (367, 0.005997129679947247), (570, 0.005995926169463975), (1627, 0.00599245710964289), (4195, 0.005992118353848314), (655, 0.005986720324120012), (209, 0.005985224097094248), (505, 0.00598180303155556), (1610, 0.005981126719480566), (334, 0.005979312967275138), (1808, 0.005974512568180353), (1729, 0.005974334368868434), (723, 0.005969552650174335), (3401, 0.005964769904118749), (840, 0.005964744874535515), (3327, 0.005963943484547347), (3749, 0.00596343329420731), (3908, 0.00596214141001803), (3851, 0.005960646070789823), (275, 0.005960240159734044), (3592, 0.005958578301305395), (1914, 0.0059576680409689125), (3007, 0.005954712806312192), (128, 0.005951521811286836), (33, 0.005951004407823634), (574, 0.005947032561760303), (2056, 0.0059461008223781284), (893, 0.005945597313532175), (108, 0.005945265629653493), (1131, 0.005943560183067452), (2733, 0.00594131074657895), (245, 0.0059388383056041185), (2692, 0.005935143204125337), (1491, 0.005927902421032801), (2831, 0.005926465017771167), (607, 0.005919523375223497), (3680, 0.005916963100948104), (3640, 0.005915749607641403), (1971, 0.005913882493101548), (3246, 0.005911984308030484), (3606, 0.005911413385542982), (1995, 0.005911279558917725), (3998, 0.005910823794752171), (1319, 0.005907819657187003), (2007, 0.005907382565314212), (170, 0.005906276437794808), (644, 0.005905836785811484), (3351, 0.005904992831200708), (3469, 0.005896929131701484), (4472, 0.005895976569255309), (4225, 0.0058926954716199895), (290, 0.005891298523362133), (2982, 0.005889056669909511), (1265, 0.005886099985936214), (1294, 0.005885879651318751), (1343, 0.005885338780624362), (2830, 0.0058839430439716145), (1144, 0.005883184156779312), (366, 0.0058764050813730285), (4473, 0.005872482599429489), (4145, 0.005872259186112552), (28, 0.00586734815215805), (43, 0.0058614081274464425), (1645, 0.005855224525011966), (1955, 0.005855203158919013), (2094, 0.005852912216340356), (273, 0.005851233329374825), (11, 0.005848738985417148), (402, 0.005844933677649756), (4114, 0.005843618788677317), (502, 0.005839886783040934), (4185, 0.0058396615574247655), (1598, 0.005838262786259119), (1517, 0.005836188530203109), (2200, 0.005833487349781665), (3123, 0.0058333352831881746), (1872, 0.005826730157536384), (500, 0.005826515246179088), (389, 0.0058235333557842646), (4166, 0.00582297144781074), (3840, 0.0058224929361138465), (1023, 0.005818917899773291), (613, 0.005816319832934211), (424, 0.005815956635851857), (2229, 0.0058155919475332855), (1866, 0.0058139354200102454), (186, 0.0058080139205469485), (392, 0.005805422010982776), (3090, 0.005801941219683549), (4018, 0.0057964157138704385), (1379, 0.005796227836842639), (3985, 0.005796088546480188), (864, 0.005795009410501633), (3303, 0.005793401104854901), (2253, 0.00579091187404713), (2244, 0.0057850136284843595), (2555, 0.005784774014898807), (3902, 0.005783590585862272), (2795, 0.005780920502142822), (3425, 0.005780367969163756), (1027, 0.005776816215476339), (3970, 0.005772281912981196), (1106, 0.005772170897726101), (1639, 0.005769836922790023), (2066, 0.005768936654434935), (2958, 0.005766724085427644), (1715, 0.00576270360565962), (568, 0.005761004846388446), (3082, 0.00575885057192191), (608, 0.0057570528575187204), (4477, 0.005749993319957841), (217, 0.00574407901811044), (364, 0.005741094898939278), (1773, 0.0057366835110650785), (3017, 0.005736009367936711), (1146, 0.005734295206334029), (994, 0.0057339547949930535), (123, 0.005733892946384857), (369, 0.005724046733763534), (695, 0.005722299900585027), (2743, 0.005721320732310693), (278, 0.005718185210494225), (3240, 0.005716712421760607), (658, 0.005716697496740867), (3158, 0.0057152273804123325), (3656, 0.00571344546761126), (3137, 0.005710015050981148), (3907, 0.00570423410317312), (4758, 0.0057040875189781565), (1447, 0.0057036563318312306), (1100, 0.005700520158741931), (3477, 0.005694995985332825), (983, 0.005692053337142188), (1681, 0.005690887797835323), (1200, 0.00568999319555839), (951, 0.005685418561643977), (1911, 0.005680935120443284), (93, 0.005680076692719979), (1195, 0.005678277481056458), (2003, 0.005669777279642454), (3653, 0.005669626802991694), (4428, 0.005668294770544565), (4248, 0.005663697472130821), (3309, 0.005661946181471376), (3252, 0.005657124384665903), (1766, 0.005646390710357025), (4071, 0.005645605664894555), (3342, 0.00564515779002783), (2561, 0.005643342108169455), (1041, 0.005640712623153116), (412, 0.005635668646681105), (2803, 0.005628606613662623), (3251, 0.005625294228623868), (2057, 0.005623398075533707), (332, 0.005613649857696365), (2865, 0.00561234377300375), (1034, 0.005609264786432469), (3333, 0.005604605537012635), (1465, 0.0056004291735675055), (955, 0.0055995857176773444), (1303, 0.0055944296143778886), (2327, 0.005588761296346035), (1670, 0.0055879727352614395), (300, 0.0055768737094134485), (291, 0.005575953223673869), (1210, 0.005575877325486043), (247, 0.005573312217276772), (1313, 0.005572426845746985), (2685, 0.005566238515963577), (3146, 0.005563949454119178), (4031, 0.005559174965489063), (2074, 0.0055579318184356), (442, 0.005557007254950617), (1096, 0.005555609780345517), (4639, 0.005553715243451199), (3617, 0.0055510975721631195), (2439, 0.005548422708511462), (4723, 0.005546099083913718), (4137, 0.005541854192952033), (1024, 0.005541214433113521), (2417, 0.0055361879812017385), (3273, 0.005536055697687829), (1082, 0.00553087407526509), (2905, 0.005528992347328136), (2747, 0.0055256980987834605), (3558, 0.005521766010231714), (2639, 0.005521378942718832), (2050, 0.005519309274645189), (212, 0.00550978630547304), (3889, 0.005509378115824674), (27, 0.005507667193960071), (3980, 0.005507402825238941), (1412, 0.005505482810773523), (4297, 0.005504897920651746), (2111, 0.005499772213649032), (3586, 0.005496207785535135), (2160, 0.005495848191592818), (1213, 0.005494876712854912), (805, 0.005493178841588611), (3143, 0.005481843683143022), (1482, 0.005478138713806834), (794, 0.005472859484352669), (2998, 0.005461659577403623), (4792, 0.005458091269885337), (3031, 0.0054519314280007235), (3604, 0.005437490396831378), (2484, 0.0054361828761924), (3018, 0.005435780667981466), (2486, 0.005433845504325046), (1634, 0.005433189101542317), (2654, 0.005430183251044801), (939, 0.005429593461407687), (3399, 0.005429347851238454), (1003, 0.005424558107930283), (1837, 0.005420044262032995), (1437, 0.005419976249970818), (930, 0.005416484893498406), (830, 0.00541647320012632), (1431, 0.005410610929031304), (3108, 0.005408254044510859), (1822, 0.005405397047020826), (4347, 0.005405260988356636), (1743, 0.005401272780487287), (147, 0.005398980333580891), (2626, 0.005393953243849908), (3733, 0.005392725644152564), (3291, 0.0053851404413056995), (3467, 0.005383097094674708), (4555, 0.005367933565519764), (1201, 0.0053673588404160874), (308, 0.0053497204972955), (4576, 0.005344886509296426), (4336, 0.005341874200748216), (3162, 0.005338643107818342), (4353, 0.005336529169952685), (2180, 0.005331214078292861), (2120, 0.005330850125401922), (3413, 0.005322788163298185), (125, 0.005320593732584787), (2977, 0.005314872876072981), (1361, 0.005295453837849358), (1892, 0.005292478119603134), (1642, 0.005290974531724722), (1177, 0.0052884711364363625), (1531, 0.005288299945812591), (1907, 0.005261059722827951), (2149, 0.005242675284581284), (1605, 0.005186549044126243), (683, 0.005168382278263409), (3133, 0.005156459700629753), (1637, 0.005154693295447881), (3428, 0.0051385418987937035), (2819, 0.005111177849859972), (3730, 0.005102996929697129), (4574, 0.005072792467319935), (4326, 0.005054775999979924), (3175, 0.005044666938618008), (4798, 0.005034497726887179), (4391, 0.005009879918891018), (3657, 0.0050043327688286485), (2421, 0.0049816435654902), (3524, 0.004942714796677058), (3884, 0.00486621216953377), (2292, 0.004854204674946961), (718, 0.004826172751216859), (4607, 0.0047368097841161035), (4426, 0.004735825679685154), (3548, 0.0047170376402841585), (4003, 0.0046774038750925255), (4252, 0.004650500632174409), (4340, 0.004646063894902058), (1404, 0.004592730883583919), (4641, 0.0045129680505791), (4541, 0.004505695378322517), (4027, 0.004496138417395837), (4493, 0.0044631115249107916), (3087, 0.0044300346065051345), (3119, 0.004293809733803583), (588, 0.004283576110356493), (1978, 0.004282158723642477), (3166, 0.004263262720260019), (4357, 0.004262814247830278), (4499, 0.004257227934946729), (4708, 0.004250456353663746), (4273, 0.004245138208224215), (4411, 0.00423145858788851), (3022, 0.004221187175757978), (3080, 0.004219612395500088), (3461, 0.004214572450808816), (3669, 0.004212124155747316), (3363, 0.004211592832683024), (1913, 0.004205907653086698), (337, 0.004197550441085822), (4239, 0.004195326196798482), (4236, 0.004187508717489611), (2770, 0.004186634893726796), (1979, 0.004181702862261834), (3796, 0.0041684642496106995), (1544, 0.004164027297812457), (2634, 0.004162495914100057), (3831, 0.004157559576621603), (2506, 0.004157306896178412), (2933, 0.0041557130589373464), (678, 0.00413564818825307), (3373, 0.004114355087468061), (4212, 0.004111944238883786), (1901, 0.0041067598570457805), (1522, 0.004091258742717595), (1962, 0.004090603634864646), (2485, 0.004090319533360959), (3932, 0.004087790809024382), (1464, 0.004086044024876504), (4184, 0.004076074163451307), (1072, 0.004069752367364056), (2869, 0.004069220015800724), (3497, 0.00406368719999215), (2882, 0.004060164479678806), (2242, 0.004052167725274844), (3550, 0.00405006385513169), (1772, 0.0040418371720207175), (4613, 0.004035514358261629), (4086, 0.004021932115911712), (2010, 0.004016959721869886), (3105, 0.004016931575708743), (2574, 0.0040076658632286905), (4612, 0.004005621995785797), (4055, 0.0039988479318174884), (2176, 0.003998841449231644), (4618, 0.003994634798647826), (4494, 0.003980891578797844), (2436, 0.0039786324461063656), (4750, 0.003968085794030086), (3725, 0.003956450124996187), (3321, 0.003951851146367471), (2216, 0.00393081757971541), (2487, 0.003929435525437353), (4177, 0.00392492109559669), (1732, 0.00392423834278027), (4369, 0.003920281758391705), (3432, 0.003919771791899543), (3224, 0.003918296279620409), (4410, 0.003916982130868288), (4047, 0.0039167121036037264), (4342, 0.003916676811501825), (1597, 0.0039138945761452255), (1631, 0.003909461659940873), (3781, 0.0039071002501572865), (2631, 0.003906332013373457), (3392, 0.003906057199293923), (3302, 0.003902084694643678), (3416, 0.003901154171516954), (2322, 0.0038959169372809956), (4754, 0.0038944514981116424), (3544, 0.0038924722641737975), (3025, 0.0038884224997241946), (4760, 0.0038881475165790723), (4634, 0.003883373854742918), (3823, 0.003878167728850184), (3315, 0.003877169721266061), (4057, 0.003875444296681539), (2658, 0.003872718094213383), (2005, 0.0038724504546959176), (1283, 0.0038689727534061066), (3913, 0.0038665782601968028), (1386, 0.0038661195131622626), (4690, 0.00386530324708273), (2973, 0.0038622845209079332), (4777, 0.003860157439445092), (3026, 0.0038593086944946607), (2563, 0.003854184889163565), (3092, 0.0038478224642326175), (4399, 0.0038473657281101695), (2709, 0.0038449265777272725), (3590, 0.003843146843217713), (4548, 0.003839763912994864), (3501, 0.003838360923843352), (1600, 0.0038335254920474904), (3598, 0.003829605877688831), (4772, 0.0038292514593107293), (4045, 0.0038274088039518916), (1276, 0.0038269389154778747), (4304, 0.003824118616178012), (2531, 0.0038238790974385087), (4730, 0.0038200041899562553), (4159, 0.0038188500028027324), (4253, 0.003817408668435886), (2804, 0.0038157144302083), (663, 0.0038149822234505967), (954, 0.003813298744082245), (1774, 0.0038095399493012706), (4580, 0.0038090452512588627), (2254, 0.003808708114810868), (3144, 0.00380742213766621), (3847, 0.003802317024295945), (1069, 0.0038018397626604582), (3921, 0.003797987593643191), (2765, 0.003797567735117609), (1908, 0.0037967297308679955), (2302, 0.003791377743530221), (2866, 0.0037869338499586943), (2844, 0.0037835051303278574), (3710, 0.003780238750323117), (2956, 0.0037784880836869046), (3564, 0.003778097787859738), (3292, 0.0037767691393418255), (3927, 0.0037745652335173796), (4502, 0.003771472165035401), (3344, 0.003770516124298595), (2246, 0.003769818138353609), (2432, 0.0037672706926825507), (4614, 0.00376519228232175), (1039, 0.0037623056134898263), (189, 0.003759240782666195), (2537, 0.0037582188217986524), (2280, 0.0037559043748599447), (1863, 0.003751700615150907), (4285, 0.0037493717016149927), (1278, 0.0037488609705388968), (3069, 0.0037428337889648658), (950, 0.0037425987678330183), (3152, 0.003739207172852152), (1383, 0.003738140005592654), (2599, 0.0037366955741644854), (3868, 0.0037360174600982116), (2970, 0.003733622616744988), (165, 0.003733605744609179), (4301, 0.0037274034399503732), (3967, 0.003726473331833593), (1916, 0.0037254405784285325), (1149, 0.003725151089993281), (1353, 0.003721273881821862), (2943, 0.0037190069008235294), (4655, 0.003718378504672046), (849, 0.0037180421964663666), (2227, 0.003716441868762866), (928, 0.003714829502369436), (4678, 0.0037136088579101593), (4169, 0.0037120762147489234), (905, 0.003711623466276175), (1381, 0.003710610919855222), (2361, 0.0037087610858541693), (4519, 0.003705224874782452), (2483, 0.003704419594360976), (4676, 0.0036953877310894967), (3127, 0.003692172046682109), (4112, 0.003689918258792154), (1264, 0.003688784438068753), (1949, 0.0036862294834405208), (3692, 0.0036855315458997275), (3308, 0.003684186751967654), (4044, 0.003683009096076436), (3326, 0.0036819583629698165), (434, 0.003681786177325812), (1516, 0.00367952521617459), (3819, 0.003678035158536745), (2353, 0.003677453699033201), (288, 0.0036714357269454745), (2862, 0.0036702928803359403), (264, 0.0036679386336764103), (3379, 0.0036664710657504113), (4082, 0.003666370897051739), (4359, 0.0036629113059871692), (4646, 0.0036612930733381133), (4610, 0.00366108336885439), (3265, 0.0036602252727974136), (877, 0.003660063636938727), (3185, 0.0036599955048573015), (2259, 0.003657707091466394), (967, 0.0036531916545618176), (2110, 0.0036520154466008225), (4362, 0.0036495916939298374), (327, 0.0036490455439819754), (2814, 0.0036471642764843116), (3047, 0.0036457477992474655), (4255, 0.0036456198709280173), (2714, 0.0036437927630083317), (1341, 0.0036436541915700537), (3922, 0.003642744887363071), (4782, 0.003640431123085333), (1357, 0.0036386142344005394), (3205, 0.0036371503986240288), (2273, 0.0036345821852656044), (635, 0.003631807912833916), (3699, 0.003628872313919437), (3325, 0.003628090447112304), (1847, 0.003617384657876125), (4528, 0.0036163493910974643), (1704, 0.0036159895761795637), (1869, 0.0036145174862689156), (2985, 0.003613524556589603), (3802, 0.003613332499081112), (3378, 0.0036114315228571456), (2300, 0.00360941903818995), (3747, 0.0036091988546794857), (3838, 0.0036088769475684816), (4386, 0.0036077322558553198), (1958, 0.003601335746464245), (4228, 0.003600940000374754), (524, 0.0035975431463808535), (1759, 0.003595462201260612), (4310, 0.003590576554629032), (4083, 0.00359052612904281), (1502, 0.003589465272492287), (3039, 0.003588729361484259), (2082, 0.003586773474175031), (3072, 0.0035852784184785018), (3096, 0.0035826440775861296), (4338, 0.0035824863285291923), (4692, 0.00358152417165338), (1868, 0.003579397857656107), (1843, 0.003577509644315467), (4762, 0.0035768429304823316), (1678, 0.0035763539140579383), (3480, 0.0035748703915569903), (1765, 0.003572466961171086), (2948, 0.003571389869265797), (1345, 0.0035707615030233174), (3678, 0.0035701527202713365), (4063, 0.0035700999113207773), (3059, 0.003570001352013682), (1478, 0.003567843970702957), (3295, 0.0035670863314624483), (2852, 0.0035669371359023047), (3551, 0.0035661711648487813), (1129, 0.0035641897163815), (382, 0.003564149005399316), (2903, 0.0035628034425368156), (4143, 0.00356198091718504), (1700, 0.003561532015564594), (4130, 0.003559746307569831), (529, 0.003559592191051322), (3103, 0.0035586064572343526), (3950, 0.0035585156843592936), (3812, 0.0035545669907617173), (1109, 0.003554555442822456), (1169, 0.003553554255906372), (2453, 0.0035496109532419475), (3398, 0.0035494605921316067), (3955, 0.0035486128866572832), (4115, 0.0035480907635820863), (526, 0.0035476093235363797), (157, 0.0035443324964020955), (4688, 0.003544021103312788), (2031, 0.003543996081587397), (2202, 0.003543112970425305), (1929, 0.0035423503514822336), (2072, 0.0035422701907419155), (4217, 0.003541483975888587), (1455, 0.0035414234790435), (2375, 0.003540197592068174), (4037, 0.0035401578449275497), (764, 0.0035375390651277167), (4462, 0.003536500371689078), (2020, 0.003534311881753857), (4028, 0.0035316415613366623), (3075, 0.003531558855494115), (2211, 0.003530989567260511), (4109, 0.003530087977850694), (3946, 0.003529183832551546), (2368, 0.003528153621080277), (1885, 0.0035274014857571943), (1922, 0.0035273069542015472), (4776, 0.0035242645977062045), (4746, 0.003523904291892389), (4388, 0.003523085806464082), (80, 0.0035229327901302792), (3990, 0.0035222342518639446), (3887, 0.0035202956904586357), (3005, 0.0035197426426006773), (4122, 0.003519305613617008), (1325, 0.0035187421046403524), (2296, 0.0035183474638843712), (743, 0.003517015973809874), (3681, 0.003516806435598945), (2562, 0.003516724285014601), (4653, 0.003512597043301955), (3961, 0.003512574973912932), (3278, 0.0035122878083157605), (2251, 0.0035113844063231455), (4656, 0.00351048235011812), (2168, 0.0035091688268365207), (1221, 0.0035090314321146792), (2140, 0.00350840452113613), (1661, 0.0035072090352488146), (3508, 0.003507184089263441), (2993, 0.003506637393380511), (3436, 0.0035057212357113674), (1547, 0.003504446890271851), (484, 0.003501966294607988), (4683, 0.0035013191131402846), (1015, 0.003500385628857196), (2266, 0.0035002882764705217), (119, 0.0034999005227700007), (1113, 0.0034982583241458757), (2078, 0.003497609160804939), (1931, 0.003497056397194444), (4620, 0.0034966365824010887), (2134, 0.003494606224048892), (103, 0.0034943925133560467), (1659, 0.0034927985753235307), (698, 0.003492378119909724), (2041, 0.0034922976347075145), (2975, 0.0034911330269868784), (270, 0.0034908562841671465), (1530, 0.003489993477741953), (2448, 0.0034894220667064965), (4150, 0.0034878900875764387), (2344, 0.0034873914979445613), (3570, 0.003486048991195023), (2919, 0.003483060946938801), (985, 0.003481684225919871), (1091, 0.003481354845458798), (3547, 0.00348025019824014), (2442, 0.0034794708868774817), (4041, 0.003479142670470338), (4702, 0.0034785426295843823), (2340, 0.0034741055434109234), (763, 0.0034735800285922644), (3181, 0.0034732679674596965), (2713, 0.0034719690474293388), (4602, 0.0034696605164537047), (1336, 0.003469309898362833), (2268, 0.003469166823613186), (4412, 0.0034688503882763133), (772, 0.0034671576826774625), (2876, 0.0034670988819436393), (475, 0.0034664212704027583), (2778, 0.003466115243976851), (2637, 0.003465869977318967), (4218, 0.0034645175547959855), (4705, 0.003464433150553457), (2192, 0.003462983298368357), (3272, 0.0034626301174300604), (60, 0.0034623313778139085), (3391, 0.003461240015126695), (1206, 0.003460816127671677), (1231, 0.003460301206047238), (4592, 0.0034587818066839824), (4603, 0.0034564591514404256), (2341, 0.0034548927194357356), (3242, 0.0034517056080058785), (2697, 0.003450112421898792), (1333, 0.003448608310855783), (2942, 0.003447985704936455), (2880, 0.0034458497169600885), (2287, 0.003444577221437204), (3526, 0.0034445671140488146), (1211, 0.0034436944756401013), (3934, 0.0034427203856624666), (2075, 0.0034422610315014528), (1935, 0.0034414381128699033), (4346, 0.0034384569860945115), (4461, 0.003438148707693818), (3130, 0.0034371369333147197), (274, 0.0034366864588998357), (2028, 0.003434193776274098), (2857, 0.0034341549849450656), (871, 0.0034330049178046235), (767, 0.0034308639101236736), (3441, 0.00342811251230269), (2640, 0.003428071103182938), (3406, 0.003427656354670312), (192, 0.0034268315889131712), (2652, 0.0034240185046317843), (2145, 0.0034234738674644672), (4281, 0.0034225403353309665), (1141, 0.0034217439131941758), (3445, 0.0034209408883196304), (784, 0.0034209079792257113), (641, 0.0034191234629988394), (2498, 0.003418091704589975), (3729, 0.0034175170661194104), (4675, 0.003417243510439721), (4054, 0.003416412755053253), (4539, 0.0034163666245808585), (1486, 0.0034149703799892365), (1240, 0.0034148334033724964), (978, 0.003414468205877333), (2512, 0.003413741187765614), (2843, 0.003412581342532898), (4288, 0.0034107500874760712), (2350, 0.0034107251345327507), (357, 0.0034105502369583185), (752, 0.003410194690511407), (3627, 0.003408348680495855), (2476, 0.0034054117900003196), (3975, 0.0034029527943451173), (2342, 0.003402265006156698), (3567, 0.003401561897467719), (1584, 0.003398333782956021), (3659, 0.0033970177458713846), (1920, 0.0033968362374010735), (3701, 0.003396514438040104), (1886, 0.0033959411939238735), (3900, 0.003395151186898453), (1615, 0.003394904052354274), (4309, 0.003393043680585593), (2307, 0.0033925342025740014), (4445, 0.00339201461938797), (672, 0.003390608984971351), (236, 0.0033895308797560384), (1776, 0.003389495871283039), (3495, 0.003389115811761537), (4744, 0.0033890028971057585), (257, 0.003388005674141742), (1509, 0.00338730940876411), (2536, 0.0033869205651115516), (3723, 0.003386659525334077), (4004, 0.0033861385096125513), (3367, 0.0033861384006457105), (4222, 0.0033857730696191957), (3522, 0.0033857586809979373), (2102, 0.003382585511836142), (384, 0.0033817408191689977), (729, 0.0033750469856999384), (1889, 0.003374999318767541), (738, 0.0033746298533139357), (2608, 0.003373452853710851), (95, 0.00337336142673849), (889, 0.0033730433389989735), (4518, 0.0033728877586675595), (4171, 0.0033727491044118377), (1532, 0.0033723342415372276), (3447, 0.0033719975634182264), (2505, 0.00337044757324371), (4337, 0.003370224292382267), (301, 0.0033698387350287926), (1057, 0.0033697189029273287), (77, 0.0033695175092388423), (4334, 0.0033692757958027455), (4636, 0.003368559532379465), (945, 0.0033666647150500306), (1387, 0.0033666310391901972), (685, 0.003364460148300036), (78, 0.003363624353935741), (1811, 0.0033627432669142902), (2926, 0.0033610873398344982), (1172, 0.0033607958081590464), (1176, 0.0033590417066998164), (2520, 0.0033584485059880488), (2479, 0.0033582695408433416), (521, 0.0033570073042007227), (1795, 0.003356044983985415), (4079, 0.003355581633849478), (3636, 0.0033552505682047187), (3083, 0.0033546755310196455), (4619, 0.003354001192357376), (2557, 0.0033531411383508286), (804, 0.0033526310127747956), (3983, 0.00335221592990613), (2691, 0.0033520543849884163), (4294, 0.0033504584740610696), (2550, 0.0033489957833184743), (1487, 0.0033484784168258193), (3245, 0.0033465327003826205), (1411, 0.003345376797688138), (2501, 0.0033453752636175816), (2734, 0.0033447052744608927), (112, 0.0033440793152873286), (2335, 0.003343369230114691), (2135, 0.003343204181725333), (2582, 0.003343124495417236), (1527, 0.003342783743544202), (2829, 0.0033419632365426855), (585, 0.003341414459040071), (1094, 0.0033406114750626024), (2204, 0.0033406030758974855), (4556, 0.0033392721373527263), (1864, 0.0033388652478868806), (4092, 0.0033373941360741017), (1239, 0.0033370160735210195), (4523, 0.003336211078067366), (2393, 0.0033359108816874727), (1243, 0.0033348408542112854), (1881, 0.0033348120796312), (4403, 0.003334057415573559), (1066, 0.0033334708745320738), (3341, 0.0033316825713788985), (4244, 0.0033302216025423424), (2827, 0.003329132204516681), (1954, 0.0033285524380895983), (214, 0.0033280881643226296), (749, 0.0033265965551658606), (4659, 0.003324789414664232), (1841, 0.003324274015408064), (3352, 0.003322686825573526), (1525, 0.0033225890925081647), (2386, 0.0033223840916940368), (617, 0.003321208189421295), (3310, 0.00332062125236132), (1347, 0.003320558892001538), (3156, 0.003320265630671397), (2024, 0.003319817740332345), (3276, 0.0033191677798881784), (3621, 0.003319016353579058), (676, 0.0033182359199112614), (3828, 0.0033165097981918182), (1710, 0.0033161908367364463), (1511, 0.0033158182601742445), (4720, 0.0033123912100211147), (237, 0.003309435565297293), (2731, 0.0033088724723273626), (4505, 0.003307137912612049), (145, 0.0033058129463372824), (2346, 0.003305064588223905), (1365, 0.0033047571927830614), (2429, 0.0033042447128083484), (557, 0.003303389510659948), (2073, 0.003302433171834248), (3238, 0.0033001218329933068), (1687, 0.0033000801795052465), (3016, 0.003299067900856744), (4448, 0.0032972009618285223), (1533, 0.003296991364553503), (3527, 0.0032956251446578174), (4467, 0.0032952310039273706), (2419, 0.003293503329246286), (4065, 0.0032930616408055947), (2232, 0.003292642991309803), (1875, 0.0032925459490812923), (4785, 0.003291210520752485), (2463, 0.0032907707489407594), (3571, 0.0032904221230868167), (3614, 0.003289882542109891), (3385, 0.003289784059560538), (1768, 0.003289783445769065), (2233, 0.0032891367312929153), (3066, 0.0032885729878038587), (1814, 0.003287766899654928), (3449, 0.003286830630922453), (1529, 0.003286309209932629), (2799, 0.0032860338787365118), (4351, 0.003285972755741441), (2572, 0.00328576655179071), (3639, 0.0032847912064049556), (4423, 0.00328384802423944), (589, 0.003281741139038261), (3654, 0.0032806960515959958), (4432, 0.003279957479377485), (3624, 0.003279896330132077), (3582, 0.0032781374181669798), (4747, 0.0032772692377861473), (2917, 0.0032758675702988277), (3629, 0.0032753553460610433), (2871, 0.0032752698543650257), (3769, 0.003275146723593649), (3693, 0.003274561187826957), (2849, 0.0032742746061426515), (2061, 0.0032728517283107873), (3217, 0.0032723342546287343), (606, 0.0032702981594013897), (1004, 0.0032700726849674584), (552, 0.0032699178240116894), (2901, 0.0032685164350485835), (2288, 0.00326667567330452), (1112, 0.0032662747820502826), (1613, 0.003265671652018263), (4271, 0.0032641740382385164), (281, 0.0032636286066450994), (349, 0.0032630473247098318), (1446, 0.003262618007521049), (2886, 0.0032617826954748396), (3347, 0.0032617150472138436), (2904, 0.0032603624136497314), (1818, 0.003260081040543566), (2992, 0.003259886398251369), (3498, 0.00325961137842541), (3070, 0.0032587698537684183), (3748, 0.003257500236946337), (2297, 0.0032548150347746847), (1819, 0.0032545734170183554), (3529, 0.003253444106136609), (4333, 0.003250886278234309), (3783, 0.0032493601816686543), (3165, 0.003248866950739057), (2488, 0.003247284088127128), (3307, 0.003246766216532087), (4312, 0.0032463611078708257), (2177, 0.0032463245546353113), (1048, 0.0032454184599838864), (2516, 0.0032452868550968132), (3125, 0.003244915631822084), (3713, 0.0032446899963299806), (2615, 0.0032441476686655766), (2908, 0.0032437971981084295), (3628, 0.0032429377090770575), (4377, 0.0032420280224490844), (1284, 0.003241522635040202), (69, 0.003241422702098062), (920, 0.003239205661336291), (1874, 0.003238231035560087), (3254, 0.003238165733093268), (3411, 0.0032380023184115994), (3674, 0.0032379226164452996), (2801, 0.003237257424783988), (3118, 0.0032364906244884786), (1742, 0.003235683394372958), (2694, 0.0032336244061063287), (1705, 0.0032334991685954912), (2009, 0.0032331385891521815), (3160, 0.0032325592516612724), (1859, 0.003232514246239293), (3102, 0.0032324774212895853), (2248, 0.003231945829487683), (1497, 0.003231785311118222), (3689, 0.003231738614493414), (789, 0.0032313922484508515), (2491, 0.00322992359181342), (3420, 0.0032295578105587673), (3605, 0.003228741159016479), (537, 0.0032286608218153865), (697, 0.0032276415658634284), (3817, 0.003227013961792222), (3738, 0.00322447466832247), (3811, 0.0032239167576958157), (3864, 0.003222863793050873), (4013, 0.0032218076665910837), (2752, 0.0032197744473583924), (3583, 0.003219421323498099), (3188, 0.0032185495972867633), (1477, 0.003217489089665459), (2524, 0.0032161128705093583), (1315, 0.003215806230919468), (3034, 0.0032149944274496795), (1812, 0.0032138675912064124), (1912, 0.003213851046202806), (1148, 0.0032135016745164975), (1657, 0.003212850028282584), (1360, 0.003212213281596177), (3936, 0.003211300605021855), (4572, 0.0032112292527982796), (246, 0.003211083189290099), (2645, 0.003211015304194779), (2674, 0.0032089346091883604), (812, 0.003208852337298473), (1852, 0.003205653102642397), (1317, 0.0032041902652830065), (2947, 0.003203445909597977), (3362, 0.0032024243767173597), (3057, 0.003201612186749211), (2839, 0.0032006365441826223), (4098, 0.0032005180895046154), (4789, 0.0031989835873493847), (3435, 0.003197699869829936), (1754, 0.003197413587720442), (2243, 0.003196522032086994), (2907, 0.0031963496943666295), (1223, 0.003195929930878109), (2019, 0.0031954142746534963), (1539, 0.0031951199305733473), (2503, 0.0031951027664423553), (4204, 0.0031944755426476616), (3588, 0.003193329734107663), (4465, 0.0031930444052561064), (2105, 0.0031908273231328753), (909, 0.003189895975017892), (1836, 0.003189284351023142), (3937, 0.003188688028797479), (1405, 0.003187087101306148), (4439, 0.0031863706286636992), (2595, 0.003184441049162487), (2121, 0.0031842828374892547), (3856, 0.0031830215913364363), (3357, 0.0031823011811042278), (2087, 0.003182093841283624), (650, 0.0031816963278895414), (1946, 0.0031811476783619105), (4441, 0.0031798408742932304), (865, 0.003177480322727879), (3538, 0.0031761070733856284), (3407, 0.003174225639692206), (4384, 0.003174161878077489), (2434, 0.003172151819641226), (2164, 0.0031710940959571725), (3832, 0.0031668518909534747), (2749, 0.00316636991261889), (1439, 0.003161552771718434), (3647, 0.003160569326872322), (3585, 0.0031588154342306295), (24, 0.0031587412242112026), (2835, 0.0031571022243882803), (878, 0.0031566106737407323), (456, 0.0031540192577726813), (684, 0.0031539043309775157), (4404, 0.0031531622963476974), (3387, 0.0031531178134812715), (3706, 0.0031519566822422553), (3196, 0.0031517411988459644), (410, 0.0031498572090898993), (1671, 0.0031491815939269263), (3865, 0.0031489359276985567), (2775, 0.003148512815614228), (2807, 0.0031483756598225114), (2328, 0.003148263104539712), (1903, 0.003148059701819567), (3138, 0.0031477946506351983), (383, 0.0031451236372891287), (671, 0.003145060288027409), (2377, 0.0031440719015076333), (2662, 0.003142675884846671), (1424, 0.003142187861012211), (3995, 0.0031401394142632224), (3709, 0.0031370543985341525), (1233, 0.0031363917129881803), (3388, 0.003135876068083229), (4795, 0.0031351677930434134), (3375, 0.003134630360322129), (1161, 0.0031343693022085574), (3241, 0.0031329465483076954), (2178, 0.0031328360594281082), (2665, 0.0031316424625684003), (800, 0.0031308170611175977), (267, 0.0031296094099070265), (4332, 0.003127001810210185), (3965, 0.0031269348309382696), (3112, 0.0031265299451022784), (1706, 0.003125741339579774), (2951, 0.0031250977579616412), (2103, 0.0031234854179639383), (2238, 0.0031230292048650137), (1557, 0.003122997108770433), (1476, 0.0031223361524866477), (3061, 0.003120618185775158), (1545, 0.0031195600928779136), (2027, 0.003116555815131622), (642, 0.0031162119259983043), (1095, 0.0031158138857496362), (1761, 0.003114957739906193), (922, 0.0031136605740957513), (4090, 0.003113463543850881), (2671, 0.003113292105002465), (667, 0.003113258172937171), (1626, 0.003112855033200618), (3470, 0.0031123950021543553), (3643, 0.003111164526472037), (3396, 0.003110428595141987), (2798, 0.0031104010664019834), (3602, 0.0031068249417154446), (855, 0.0031067347300276363), (3935, 0.0031063349642147303), (1994, 0.003106108597922507), (2552, 0.0031056695046102743), (2969, 0.0031056493819628297), (3867, 0.003102931523713667), (3688, 0.0031024982599064436), (4010, 0.0031021700119367723), (1117, 0.0030980089748822814), (3514, 0.0030973286739993514), (1923, 0.0030957248324629625), (1813, 0.0030935790120471475), (2399, 0.0030924811865934944), (2920, 0.0030910213215440997), (1323, 0.00309076155249047), (1677, 0.003090648742468862), (1855, 0.0030894360001865063), (3012, 0.0030885920250526763), (2210, 0.003087588164315616), (3719, 0.0030846344091437767), (3914, 0.0030840310876814186), (1316, 0.003083764740199705), (4484, 0.0030791282500107313), (3576, 0.0030776837931035033), (2115, 0.0030724339735950616), (2504, 0.003072011471989944), (4209, 0.003068427459213767), (4135, 0.003063440084831719), (3019, 0.0030633620427913785), (2774, 0.003060988825943571), (4790, 0.003059449203541392), (2517, 0.003058573725012557), (2025, 0.0030576023044675874), (592, 0.0030567005937251887), (839, 0.0030548344951466266), (2397, 0.0030540434255122), (4164, 0.003053829777458831), (4727, 0.0030504211323172893), (409, 0.0030497161262924683), (3382, 0.0030496434289695442), (4454, 0.0030490978484114554), (599, 0.003047654520620351), (586, 0.003046873338246859), (3691, 0.0030450434393146666), (4700, 0.0030449551819788584), (3178, 0.003043097046713683), (3113, 0.003040140834654226), (4485, 0.0030397284456159337), (4272, 0.0030384816789472756), (2334, 0.0030381362999982353), (1696, 0.003036986864883806), (3421, 0.0030345414688669353), (4165, 0.0030333686790860698), (2271, 0.0030333545966110043), (3191, 0.003030009957429839), (4726, 0.003028942003544933), (662, 0.003028758019943035), (4793, 0.003028535011894151), (474, 0.003027939744817354), (4459, 0.0030231224417609647), (2208, 0.0030228438519483043), (1810, 0.0030215456387450656), (3227, 0.0030211985153267623), (1967, 0.0030203836030710204), (4648, 0.0030195151915801827), (4379, 0.003018949417476062), (3424, 0.0030180177787819894), (3814, 0.00301735087699096), (2727, 0.003015026192852903), (3532, 0.0030149682999685463), (3450, 0.0030133350284288793), (3370, 0.003012845254544707), (3068, 0.003012674266825607), (3562, 0.0030121739008358178), (1252, 0.0030105755815753444), (1251, 0.003009489016386883), (1538, 0.003005544194537283), (3877, 0.003005401814345431), (3100, 0.0030030032026823867), (4591, 0.0029977375800879094), (4699, 0.0029973457359617475), (3731, 0.002995499983846125), (4172, 0.0029921712402486166), (4275, 0.0029919289204435734), (556, 0.0029907202349800177), (1327, 0.0029883760604869484), (2811, 0.0029870761178227277), (3870, 0.0029869017014989754), (4444, 0.0029835200346347247), (2508, 0.0029818518582049227), (3206, 0.0029818201224385567), (4398, 0.002981352206077648), (3716, 0.0029809894442314635), (2724, 0.0029808142838896223), (3892, 0.0029800963741596), (1581, 0.0029784621778677985), (407, 0.002972849622150622), (1286, 0.0029724425000732693), (1307, 0.0029701197563376316), (2278, 0.0029652180179719177), (2656, 0.002964808874318784), (2840, 0.0029617089163840563), (1877, 0.002958110091871042), (1570, 0.002954458328555572), (2068, 0.002953284408267166), (4173, 0.0029524389395196643), (4582, 0.0029504488500221235), (2593, 0.002949492508379848), (1332, 0.002947139258328154), (3542, 0.002946874133841588), (2310, 0.002946590351330078), (2236, 0.0029450680258928255), (2499, 0.002942693589917901), (4715, 0.0029407031619107515), (4695, 0.002938886949193341), (3952, 0.002937923316507098), (2680, 0.002937497872245688), (1622, 0.0029374006915049698), (1672, 0.002937039280463093), (3239, 0.0029355380753352403), (2986, 0.002932901967255758), (3328, 0.0029280620472614417), (2465, 0.0029268707355431488), (861, 0.0029243266599342844), (3553, 0.0029229012573876094), (2013, 0.002920944134774767), (3197, 0.002920411430922461), (3818, 0.002918802388306688), (3476, 0.0029173620713203205), (3358, 0.0029139809871989533), (4605, 0.0029117058868063715), (4175, 0.0029096949941627794), (4438, 0.0029080709856896306), (3414, 0.002906559622729237), (2378, 0.0029057754431596264), (317, 0.002904036009143304), (3797, 0.0029030482681411405), (1406, 0.002899951738827384), (448, 0.002899880343699256), (4474, 0.0028987923116445893), (4064, 0.002896587240840802), (2881, 0.002892618122552909), (2446, 0.002891050578510236), (1136, 0.002890576114161281), (3782, 0.002883993006725808), (3773, 0.002876461814815424), (2700, 0.002876435371561038), (3429, 0.002873325866584198), (4021, 0.0028721347401724187), (4270, 0.002867480127802427), (3390, 0.0028584683900848974), (3023, 0.0028583807398928312), (2860, 0.00285757276562437), (2133, 0.002856935281837814), (4303, 0.002856402640956878), (3866, 0.00285621209510071), (3708, 0.002854071830646078), (3712, 0.0028471502270549422), (2262, 0.002847043932381672), (2711, 0.0028464876010915407), (2624, 0.0028454713263450036), (3801, 0.002838726227136466), (3645, 0.0028356782213149385), (1888, 0.002834904726224215), (3298, 0.0028340338826838454), (3728, 0.0028324493480739116), (4238, 0.002830204548155069), (2974, 0.002830031384658044), (1738, 0.0028288696032697193), (4260, 0.0028241022017872863), (3221, 0.0028222698818055184), (84, 0.002815473071807736), (1948, 0.00280906795584949), (3155, 0.0028072446515069035), (4486, 0.0027943202515618502), (3876, 0.0027895061576200084), (2660, 0.0027810622699589844), (3844, 0.0027782848091468804), (4095, 0.0027774998247550075), (3496, 0.0027739857358627397), (4535, 0.0027735838895535307), (2757, 0.0027715215494248505), (1878, 0.0027710250952635725), (4104, 0.002769371043557995), (4026, 0.002768368231762965), (4144, 0.002765713667854015), (4434, 0.002756192274623157), (4220, 0.002752939235944589), (2623, 0.0027423165918587784), (3535, 0.0027417663084751223), (2616, 0.0027356587373376993), (3753, 0.0027351623712966546), (1298, 0.002727319468691232), (3615, 0.0027272913478656635), (3084, 0.0027211493351328004), (97, 0.002714511220708288), (3540, 0.00271371627927557), (3417, 0.00270525724666859), (2894, 0.0027038704103472524), (1028, 0.0026925130866547265), (2641, 0.0026891258518305147), (2186, 0.0026891085594953706), (2725, 0.0026855960813902346), (3999, 0.0026808032456846448), (3788, 0.00268002447760116), (2016, 0.002662631497515322), (1462, 0.002658397902928864), (4085, 0.0026530835219231216), (2898, 0.002644591305097665), (2787, 0.002637339507193492), (3673, 0.0026338727252840175), (2638, 0.002633590609427879), (3974, 0.002614013221515834), (3543, 0.002611989481366204), (2542, 0.0025932443521494704), (4182, 0.0025789755357064972), (561, 0.002569987351787528), (4742, 0.0025416211862560284), (1304, 0.0025085310654334395), (4686, 0.002498081171651209), (4510, 0.00249255284474047), (3776, 0.0024820025784953867), (2954, 0.00244281582034674), (2806, 0.0024425711142223028), (2877, 0.0024281192502660204), (2784, 0.0024270838154776997), (4512, 0.00231630904179145), (4452, 0.002115458471577092), (1, 0.0), (2, 0.0), (4, 0.0), (6, 0.0), (7, 0.0), (8, 0.0), (9, 0.0), (12, 0.0), (14, 0.0), (15, 0.0), (16, 0.0), (17, 0.0), (18, 0.0), (19, 0.0), (20, 0.0), (21, 0.0), (22, 0.0), (23, 0.0), (26, 0.0), (31, 0.0), (32, 0.0), (35, 0.0), (36, 0.0), (38, 0.0), (39, 0.0), (40, 0.0), (42, 0.0), (47, 0.0), (48, 0.0), (51, 0.0), (53, 0.0), (56, 0.0), (57, 0.0), (59, 0.0), (62, 0.0), (63, 0.0), (66, 0.0), (67, 0.0), (68, 0.0), (70, 0.0), (71, 0.0), (72, 0.0), (73, 0.0), (74, 0.0), (75, 0.0), (79, 0.0), (85, 0.0), (87, 0.0), (88, 0.0), (89, 0.0), (90, 0.0), (91, 0.0), (92, 0.0), (98, 0.0), (102, 0.0), (107, 0.0), (109, 0.0), (111, 0.0), (113, 0.0), (114, 0.0), (115, 0.0), (117, 0.0), (118, 0.0), (120, 0.0), (121, 0.0), (124, 0.0), (126, 0.0), (129, 0.0), (130, 0.0), (131, 0.0), (132, 0.0), (133, 0.0), (136, 0.0), (137, 0.0), (141, 0.0), (143, 0.0), (144, 0.0), (150, 0.0), (151, 0.0), (152, 0.0), (155, 0.0), (158, 0.0), (161, 0.0), (162, 0.0), (168, 0.0), (169, 0.0), (173, 0.0), (174, 0.0), (175, 0.0), (177, 0.0), (179, 0.0), (181, 0.0), (182, 0.0), (183, 0.0), (184, 0.0), (190, 0.0), (191, 0.0), (193, 0.0), (194, 0.0), (195, 0.0), (196, 0.0), (197, 0.0), (198, 0.0), (199, 0.0), (202, 0.0), (205, 0.0), (206, 0.0), (207, 0.0), (208, 0.0), (210, 0.0), (211, 0.0), (220, 0.0), (221, 0.0), (223, 0.0), (224, 0.0), (225, 0.0), (228, 0.0), (229, 0.0), (230, 0.0), (233, 0.0), (234, 0.0), (235, 0.0), (241, 0.0), (243, 0.0), (251, 0.0), (253, 0.0), (254, 0.0), (255, 0.0), (258, 0.0), (260, 0.0), (262, 0.0), (263, 0.0), (265, 0.0), (268, 0.0), (276, 0.0), (285, 0.0), (289, 0.0), (292, 0.0), (294, 0.0), (296, 0.0), (299, 0.0), (302, 0.0), (304, 0.0), (305, 0.0), (306, 0.0), (309, 0.0), (311, 0.0), (313, 0.0), (315, 0.0), (319, 0.0), (320, 0.0), (321, 0.0), (325, 0.0), (328, 0.0), (329, 0.0), (330, 0.0), (331, 0.0), (336, 0.0), (339, 0.0), (341, 0.0), (342, 0.0), (343, 0.0), (348, 0.0), (352, 0.0), (353, 0.0), (356, 0.0), (359, 0.0), (361, 0.0), (368, 0.0), (370, 0.0), (373, 0.0), (374, 0.0), (375, 0.0), (385, 0.0), (393, 0.0), (394, 0.0), (401, 0.0), (403, 0.0), (411, 0.0), (414, 0.0), (415, 0.0), (417, 0.0), (419, 0.0), (420, 0.0), (422, 0.0), (423, 0.0), (426, 0.0), (427, 0.0), (428, 0.0), (429, 0.0), (430, 0.0), (431, 0.0), (441, 0.0), (450, 0.0), (453, 0.0), (458, 0.0), (461, 0.0), (466, 0.0), (467, 0.0), (469, 0.0), (473, 0.0), (479, 0.0), (480, 0.0), (481, 0.0), (486, 0.0), (488, 0.0), (489, 0.0), (492, 0.0), (495, 0.0), (498, 0.0), (499, 0.0), (503, 0.0), (504, 0.0), (506, 0.0), (507, 0.0), (508, 0.0), (509, 0.0), (511, 0.0), (514, 0.0), (520, 0.0), (522, 0.0), (525, 0.0), (527, 0.0), (531, 0.0), (533, 0.0), (539, 0.0), (541, 0.0), (543, 0.0), (546, 0.0), (548, 0.0), (549, 0.0), (550, 0.0), (554, 0.0), (558, 0.0), (560, 0.0), (563, 0.0), (566, 0.0), (569, 0.0), (572, 0.0), (577, 0.0), (578, 0.0), (579, 0.0), (582, 0.0), (595, 0.0), (604, 0.0), (605, 0.0), (610, 0.0), (614, 0.0), (615, 0.0), (616, 0.0), (618, 0.0), (619, 0.0), (623, 0.0), (624, 0.0), (627, 0.0), (631, 0.0), (634, 0.0), (636, 0.0), (639, 0.0), (640, 0.0), (646, 0.0), (649, 0.0), (657, 0.0), (661, 0.0), (668, 0.0), (673, 0.0), (674, 0.0), (675, 0.0), (679, 0.0), (687, 0.0), (689, 0.0), (691, 0.0), (692, 0.0), (699, 0.0), (700, 0.0), (701, 0.0), (702, 0.0), (704, 0.0), (706, 0.0), (707, 0.0), (708, 0.0), (715, 0.0), (719, 0.0), (721, 0.0), (722, 0.0), (725, 0.0), (726, 0.0), (727, 0.0), (728, 0.0), (730, 0.0), (734, 0.0), (740, 0.0), (742, 0.0), (744, 0.0), (746, 0.0), (748, 0.0), (750, 0.0), (754, 0.0), (769, 0.0), (770, 0.0), (778, 0.0), (780, 0.0), (781, 0.0), (783, 0.0), (786, 0.0), (788, 0.0), (790, 0.0), (791, 0.0), (796, 0.0), (797, 0.0), (798, 0.0), (799, 0.0), (802, 0.0), (803, 0.0), (813, 0.0), (819, 0.0), (820, 0.0), (828, 0.0), (829, 0.0), (832, 0.0), (833, 0.0), (835, 0.0), (836, 0.0), (837, 0.0), (838, 0.0), (841, 0.0), (842, 0.0), (843, 0.0), (846, 0.0), (847, 0.0), (848, 0.0), (857, 0.0), (859, 0.0), (870, 0.0), (874, 0.0), (888, 0.0), (890, 0.0), (894, 0.0), (895, 0.0), (897, 0.0), (901, 0.0), (903, 0.0), (906, 0.0), (911, 0.0), (913, 0.0), (914, 0.0), (916, 0.0), (923, 0.0), (926, 0.0), (927, 0.0), (933, 0.0), (934, 0.0), (937, 0.0), (947, 0.0), (948, 0.0), (949, 0.0), (952, 0.0), (953, 0.0), (956, 0.0), (960, 0.0), (966, 0.0), (977, 0.0), (981, 0.0), (989, 0.0), (992, 0.0), (997, 0.0), (998, 0.0), (1006, 0.0), (1008, 0.0), (1011, 0.0), (1012, 0.0), (1014, 0.0), (1029, 0.0), (1037, 0.0), (1040, 0.0), (1042, 0.0), (1043, 0.0), (1044, 0.0), (1053, 0.0), (1056, 0.0), (1060, 0.0), (1062, 0.0), (1068, 0.0), (1070, 0.0), (1071, 0.0), (1074, 0.0), (1077, 0.0), (1078, 0.0), (1085, 0.0), (1086, 0.0), (1088, 0.0), (1093, 0.0), (1101, 0.0), (1104, 0.0), (1108, 0.0), (1114, 0.0), (1119, 0.0), (1121, 0.0), (1124, 0.0), (1130, 0.0), (1140, 0.0), (1142, 0.0), (1147, 0.0), (1153, 0.0), (1155, 0.0), (1157, 0.0), (1159, 0.0), (1163, 0.0), (1164, 0.0), (1165, 0.0), (1166, 0.0), (1171, 0.0), (1173, 0.0), (1174, 0.0), (1179, 0.0), (1182, 0.0), (1184, 0.0), (1186, 0.0), (1189, 0.0), (1191, 0.0), (1192, 0.0), (1197, 0.0), (1198, 0.0), (1212, 0.0), (1214, 0.0), (1217, 0.0), (1218, 0.0), (1219, 0.0), (1228, 0.0), (1229, 0.0), (1234, 0.0), (1237, 0.0), (1238, 0.0), (1242, 0.0), (1249, 0.0), (1256, 0.0), (1257, 0.0), (1259, 0.0), (1262, 0.0), (1268, 0.0), (1270, 0.0), (1274, 0.0), (1277, 0.0), (1279, 0.0), (1285, 0.0), (1287, 0.0), (1288, 0.0), (1290, 0.0), (1292, 0.0), (1293, 0.0), (1296, 0.0), (1297, 0.0), (1301, 0.0), (1302, 0.0), (1306, 0.0), (1312, 0.0), (1318, 0.0), (1322, 0.0), (1326, 0.0), (1334, 0.0), (1339, 0.0), (1344, 0.0), (1354, 0.0), (1355, 0.0), (1356, 0.0), (1358, 0.0), (1359, 0.0), (1363, 0.0), (1364, 0.0), (1368, 0.0), (1371, 0.0), (1375, 0.0), (1377, 0.0), (1378, 0.0), (1382, 0.0), (1385, 0.0), (1388, 0.0), (1389, 0.0), (1391, 0.0), (1392, 0.0), (1395, 0.0), (1396, 0.0), (1398, 0.0), (1402, 0.0), (1403, 0.0), (1407, 0.0), (1415, 0.0), (1420, 0.0), (1421, 0.0), (1423, 0.0), (1426, 0.0), (1428, 0.0), (1430, 0.0), (1432, 0.0), (1434, 0.0), (1436, 0.0), (1438, 0.0), (1441, 0.0), (1450, 0.0), (1451, 0.0), (1453, 0.0), (1459, 0.0), (1463, 0.0), (1471, 0.0), (1480, 0.0), (1481, 0.0), (1493, 0.0), (1498, 0.0), (1501, 0.0), (1504, 0.0), (1505, 0.0), (1519, 0.0), (1521, 0.0), (1528, 0.0), (1534, 0.0), (1536, 0.0), (1541, 0.0), (1542, 0.0), (1548, 0.0), (1549, 0.0), (1550, 0.0), (1552, 0.0), (1554, 0.0), (1555, 0.0), (1562, 0.0), (1573, 0.0), (1574, 0.0), (1580, 0.0), (1585, 0.0), (1587, 0.0), (1589, 0.0), (1593, 0.0), (1606, 0.0), (1607, 0.0), (1608, 0.0), (1609, 0.0), (1614, 0.0), (1616, 0.0), (1620, 0.0), (1621, 0.0), (1630, 0.0), (1643, 0.0), (1648, 0.0), (1650, 0.0), (1656, 0.0), (1658, 0.0), (1662, 0.0), (1673, 0.0), (1676, 0.0), (1680, 0.0), (1682, 0.0), (1683, 0.0), (1685, 0.0), (1686, 0.0), (1695, 0.0), (1698, 0.0), (1701, 0.0), (1703, 0.0), (1707, 0.0), (1708, 0.0), (1709, 0.0), (1712, 0.0), (1716, 0.0), (1719, 0.0), (1720, 0.0), (1721, 0.0), (1723, 0.0), (1726, 0.0), (1730, 0.0), (1734, 0.0), (1735, 0.0), (1740, 0.0), (1741, 0.0), (1755, 0.0), (1762, 0.0), (1764, 0.0), (1769, 0.0), (1778, 0.0), (1782, 0.0), (1785, 0.0), (1789, 0.0), (1790, 0.0), (1797, 0.0), (1801, 0.0), (1802, 0.0), (1804, 0.0), (1807, 0.0), (1821, 0.0), (1823, 0.0), (1825, 0.0), (1827, 0.0), (1830, 0.0), (1846, 0.0), (1848, 0.0), (1849, 0.0), (1851, 0.0), (1854, 0.0), (1856, 0.0), (1857, 0.0), (1858, 0.0), (1871, 0.0), (1876, 0.0), (1879, 0.0), (1880, 0.0), (1882, 0.0), (1883, 0.0), (1887, 0.0), (1896, 0.0), (1900, 0.0), (1904, 0.0), (1932, 0.0), (1933, 0.0), (1936, 0.0), (1937, 0.0), (1939, 0.0), (1942, 0.0), (1947, 0.0), (1950, 0.0), (1951, 0.0), (1961, 0.0), (1964, 0.0), (1966, 0.0), (1970, 0.0), (1972, 0.0), (1976, 0.0), (1977, 0.0), (1981, 0.0), (1983, 0.0), (1984, 0.0), (1987, 0.0), (1988, 0.0), (1992, 0.0), (1999, 0.0), (2001, 0.0), (2015, 0.0), (2021, 0.0), (2023, 0.0), (2033, 0.0), (2034, 0.0), (2037, 0.0), (2039, 0.0), (2042, 0.0), (2044, 0.0), (2055, 0.0), (2067, 0.0), (2069, 0.0), (2083, 0.0), (2085, 0.0), (2086, 0.0), (2089, 0.0), (2090, 0.0), (2092, 0.0), (2093, 0.0), (2095, 0.0), (2099, 0.0), (2100, 0.0), (2101, 0.0), (2112, 0.0), (2113, 0.0), (2114, 0.0), (2116, 0.0), (2119, 0.0), (2122, 0.0), (2127, 0.0), (2132, 0.0), (2136, 0.0), (2139, 0.0), (2142, 0.0), (2144, 0.0), (2155, 0.0), (2156, 0.0), (2162, 0.0), (2163, 0.0), (2167, 0.0), (2182, 0.0), (2184, 0.0), (2191, 0.0), (2194, 0.0), (2199, 0.0), (2209, 0.0), (2220, 0.0), (2221, 0.0), (2222, 0.0), (2223, 0.0), (2226, 0.0), (2228, 0.0), (2230, 0.0), (2231, 0.0), (2247, 0.0), (2249, 0.0), (2252, 0.0), (2256, 0.0), (2258, 0.0), (2261, 0.0), (2263, 0.0), (2264, 0.0), (2270, 0.0), (2272, 0.0), (2281, 0.0), (2282, 0.0), (2285, 0.0), (2290, 0.0), (2293, 0.0), (2294, 0.0), (2295, 0.0), (2303, 0.0), (2308, 0.0), (2309, 0.0), (2312, 0.0), (2315, 0.0), (2316, 0.0), (2319, 0.0), (2324, 0.0), (2326, 0.0), (2329, 0.0), (2330, 0.0), (2339, 0.0), (2343, 0.0), (2349, 0.0), (2351, 0.0), (2352, 0.0), (2360, 0.0), (2363, 0.0), (2366, 0.0), (2370, 0.0), (2372, 0.0), (2379, 0.0), (2387, 0.0), (2389, 0.0), (2390, 0.0), (2392, 0.0), (2394, 0.0), (2396, 0.0), (2408, 0.0), (2410, 0.0), (2411, 0.0), (2413, 0.0), (2415, 0.0), (2418, 0.0), (2420, 0.0), (2426, 0.0), (2427, 0.0), (2430, 0.0), (2433, 0.0), (2437, 0.0), (2443, 0.0), (2444, 0.0), (2454, 0.0), (2457, 0.0), (2462, 0.0), (2466, 0.0), (2471, 0.0), (2477, 0.0), (2478, 0.0), (2482, 0.0), (2490, 0.0), (2492, 0.0), (2497, 0.0), (2510, 0.0), (2511, 0.0), (2518, 0.0), (2523, 0.0), (2525, 0.0), (2526, 0.0), (2528, 0.0), (2530, 0.0), (2535, 0.0), (2538, 0.0), (2540, 0.0), (2541, 0.0), (2544, 0.0), (2548, 0.0), (2551, 0.0), (2559, 0.0), (2566, 0.0), (2570, 0.0), (2576, 0.0), (2579, 0.0), (2589, 0.0), (2590, 0.0), (2591, 0.0), (2592, 0.0), (2598, 0.0), (2601, 0.0), (2602, 0.0), (2605, 0.0), (2607, 0.0), (2618, 0.0), (2619, 0.0), (2625, 0.0), (2653, 0.0), (2655, 0.0), (2664, 0.0), (2669, 0.0), (2672, 0.0), (2673, 0.0), (2679, 0.0), (2681, 0.0), (2683, 0.0), (2689, 0.0), (2690, 0.0), (2699, 0.0), (2712, 0.0), (2715, 0.0), (2720, 0.0), (2722, 0.0), (2729, 0.0), (2735, 0.0), (2737, 0.0), (2740, 0.0), (2744, 0.0), (2746, 0.0), (2755, 0.0), (2761, 0.0), (2763, 0.0), (2768, 0.0), (2781, 0.0), (2785, 0.0), (2805, 0.0), (2812, 0.0), (2816, 0.0), (2821, 0.0), (2823, 0.0), (2828, 0.0), (2833, 0.0), (2834, 0.0), (2837, 0.0), (2841, 0.0), (2848, 0.0), (2851, 0.0), (2861, 0.0), (2867, 0.0), (2873, 0.0), (2889, 0.0), (2895, 0.0), (2899, 0.0), (2900, 0.0), (2902, 0.0), (2911, 0.0), (2913, 0.0), (2918, 0.0), (2921, 0.0), (2923, 0.0), (2928, 0.0), (2929, 0.0), (2930, 0.0), (2931, 0.0), (2937, 0.0), (2944, 0.0), (2965, 0.0), (2966, 0.0), (2967, 0.0), (2978, 0.0), (2979, 0.0), (2987, 0.0), (2991, 0.0), (2994, 0.0), (2995, 0.0), (2999, 0.0), (3001, 0.0), (3004, 0.0), (3008, 0.0), (3013, 0.0), (3024, 0.0), (3029, 0.0), (3030, 0.0), (3035, 0.0), (3036, 0.0), (3038, 0.0), (3045, 0.0), (3046, 0.0), (3049, 0.0), (3051, 0.0), (3054, 0.0), (3056, 0.0), (3063, 0.0), (3079, 0.0), (3089, 0.0), (3094, 0.0), (3099, 0.0), (3106, 0.0), (3111, 0.0), (3115, 0.0), (3121, 0.0), (3129, 0.0), (3135, 0.0), (3136, 0.0), (3139, 0.0), (3141, 0.0), (3142, 0.0), (3147, 0.0), (3148, 0.0), (3150, 0.0), (3159, 0.0), (3163, 0.0), (3171, 0.0), (3174, 0.0), (3182, 0.0), (3184, 0.0), (3187, 0.0), (3189, 0.0), (3190, 0.0), (3193, 0.0), (3202, 0.0), (3203, 0.0), (3210, 0.0), (3213, 0.0), (3214, 0.0), (3216, 0.0), (3230, 0.0), (3235, 0.0), (3248, 0.0), (3249, 0.0), (3255, 0.0), (3256, 0.0), (3259, 0.0), (3263, 0.0), (3266, 0.0), (3268, 0.0), (3281, 0.0), (3286, 0.0), (3290, 0.0), (3296, 0.0), (3305, 0.0), (3312, 0.0), (3317, 0.0), (3318, 0.0), (3320, 0.0), (3324, 0.0), (3335, 0.0), (3346, 0.0), (3353, 0.0), (3355, 0.0), (3360, 0.0), (3364, 0.0), (3371, 0.0), (3383, 0.0), (3386, 0.0), (3389, 0.0), (3395, 0.0), (3402, 0.0), (3405, 0.0), (3418, 0.0), (3446, 0.0), (3448, 0.0), (3451, 0.0), (3458, 0.0), (3459, 0.0), (3460, 0.0), (3462, 0.0), (3463, 0.0), (3464, 0.0), (3471, 0.0), (3475, 0.0), (3478, 0.0), (3483, 0.0), (3485, 0.0), (3490, 0.0), (3494, 0.0), (3502, 0.0), (3503, 0.0), (3519, 0.0), (3523, 0.0), (3525, 0.0), (3531, 0.0), (3534, 0.0), (3546, 0.0), (3555, 0.0), (3557, 0.0), (3559, 0.0), (3560, 0.0), (3563, 0.0), (3565, 0.0), (3575, 0.0), (3578, 0.0), (3580, 0.0), (3601, 0.0), (3607, 0.0), (3613, 0.0), (3619, 0.0), (3620, 0.0), (3622, 0.0), (3625, 0.0), (3626, 0.0), (3630, 0.0), (3646, 0.0), (3648, 0.0), (3660, 0.0), (3663, 0.0), (3670, 0.0), (3672, 0.0), (3677, 0.0), (3682, 0.0), (3683, 0.0), (3694, 0.0), (3697, 0.0), (3705, 0.0), (3707, 0.0), (3715, 0.0), (3721, 0.0), (3724, 0.0), (3735, 0.0), (3736, 0.0), (3737, 0.0), (3742, 0.0), (3744, 0.0), (3751, 0.0), (3754, 0.0), (3755, 0.0), (3762, 0.0), (3765, 0.0), (3766, 0.0), (3768, 0.0), (3770, 0.0), (3775, 0.0), (3777, 0.0), (3786, 0.0), (3787, 0.0), (3790, 0.0), (3800, 0.0), (3806, 0.0), (3807, 0.0), (3808, 0.0), (3824, 0.0), (3825, 0.0), (3827, 0.0), (3829, 0.0), (3830, 0.0), (3836, 0.0), (3841, 0.0), (3842, 0.0), (3843, 0.0), (3845, 0.0), (3848, 0.0), (3849, 0.0), (3854, 0.0), (3855, 0.0), (3860, 0.0), (3861, 0.0), (3871, 0.0), (3874, 0.0), (3882, 0.0), (3883, 0.0), (3885, 0.0), (3888, 0.0), (3891, 0.0), (3893, 0.0), (3897, 0.0), (3901, 0.0), (3904, 0.0), (3909, 0.0), (3912, 0.0), (3916, 0.0), (3919, 0.0), (3924, 0.0), (3928, 0.0), (3929, 0.0), (3930, 0.0), (3933, 0.0), (3938, 0.0), (3939, 0.0), (3943, 0.0), (3951, 0.0), (3959, 0.0), (3960, 0.0), (3963, 0.0), (3964, 0.0), (3971, 0.0), (3976, 0.0), (3979, 0.0), (3986, 0.0), (3987, 0.0), (3988, 0.0), (3991, 0.0), (3992, 0.0), (3993, 0.0), (3997, 0.0), (4001, 0.0), (4002, 0.0), (4007, 0.0), (4008, 0.0), (4009, 0.0), (4011, 0.0), (4012, 0.0), (4014, 0.0), (4025, 0.0), (4029, 0.0), (4034, 0.0), (4035, 0.0), (4036, 0.0), (4039, 0.0), (4040, 0.0), (4042, 0.0), (4043, 0.0), (4049, 0.0), (4050, 0.0), (4061, 0.0), (4066, 0.0), (4068, 0.0), (4072, 0.0), (4075, 0.0), (4078, 0.0), (4080, 0.0), (4093, 0.0), (4096, 0.0), (4102, 0.0), (4105, 0.0), (4106, 0.0), (4108, 0.0), (4110, 0.0), (4113, 0.0), (4116, 0.0), (4117, 0.0), (4118, 0.0), (4120, 0.0), (4123, 0.0), (4131, 0.0), (4138, 0.0), (4140, 0.0), (4141, 0.0), (4148, 0.0), (4149, 0.0), (4151, 0.0), (4153, 0.0), (4154, 0.0), (4156, 0.0), (4176, 0.0), (4180, 0.0), (4181, 0.0), (4183, 0.0), (4187, 0.0), (4191, 0.0), (4193, 0.0), (4196, 0.0), (4202, 0.0), (4213, 0.0), (4214, 0.0), (4215, 0.0), (4219, 0.0), (4227, 0.0), (4234, 0.0), (4237, 0.0), (4240, 0.0), (4241, 0.0), (4242, 0.0), (4245, 0.0), (4250, 0.0), (4254, 0.0), (4259, 0.0), (4261, 0.0), (4262, 0.0), (4267, 0.0), (4268, 0.0), (4274, 0.0), (4277, 0.0), (4279, 0.0), (4284, 0.0), (4286, 0.0), (4292, 0.0), (4293, 0.0), (4298, 0.0), (4302, 0.0), (4305, 0.0), (4306, 0.0), (4311, 0.0), (4314, 0.0), (4315, 0.0), (4316, 0.0), (4317, 0.0), (4318, 0.0), (4319, 0.0), (4322, 0.0), (4323, 0.0), (4325, 0.0), (4328, 0.0), (4341, 0.0), (4344, 0.0), (4352, 0.0), (4356, 0.0), (4363, 0.0), (4366, 0.0), (4372, 0.0), (4374, 0.0), (4381, 0.0), (4382, 0.0), (4383, 0.0), (4385, 0.0), (4387, 0.0), (4390, 0.0), (4392, 0.0), (4400, 0.0), (4401, 0.0), (4405, 0.0), (4414, 0.0), (4419, 0.0), (4424, 0.0), (4431, 0.0), (4435, 0.0), (4442, 0.0), (4446, 0.0), (4450, 0.0), (4458, 0.0), (4463, 0.0), (4464, 0.0), (4466, 0.0), (4468, 0.0), (4469, 0.0), (4471, 0.0), (4478, 0.0), (4479, 0.0), (4481, 0.0), (4489, 0.0), (4490, 0.0), (4491, 0.0), (4496, 0.0), (4497, 0.0), (4498, 0.0), (4503, 0.0), (4504, 0.0), (4507, 0.0), (4508, 0.0), (4515, 0.0), (4516, 0.0), (4517, 0.0), (4520, 0.0), (4521, 0.0), (4524, 0.0), (4526, 0.0), (4534, 0.0), (4536, 0.0), (4538, 0.0), (4544, 0.0), (4545, 0.0), (4546, 0.0), (4547, 0.0), (4550, 0.0), (4552, 0.0), (4553, 0.0), (4558, 0.0), (4560, 0.0), (4562, 0.0), (4563, 0.0), (4566, 0.0), (4569, 0.0), (4571, 0.0), (4575, 0.0), (4577, 0.0), (4578, 0.0), (4579, 0.0), (4581, 0.0), (4583, 0.0), (4584, 0.0), (4585, 0.0), (4595, 0.0), (4596, 0.0), (4597, 0.0), (4598, 0.0), (4600, 0.0), (4601, 0.0), (4606, 0.0), (4609, 0.0), (4611, 0.0), (4616, 0.0), (4617, 0.0), (4622, 0.0), (4623, 0.0), (4625, 0.0), (4633, 0.0), (4644, 0.0), (4645, 0.0), (4652, 0.0), (4654, 0.0), (4657, 0.0), (4660, 0.0), (4662, 0.0), (4666, 0.0), (4668, 0.0), (4669, 0.0), (4672, 0.0), (4673, 0.0), (4674, 0.0), (4679, 0.0), (4681, 0.0), (4684, 0.0), (4685, 0.0), (4689, 0.0), (4698, 0.0), (4706, 0.0), (4709, 0.0), (4710, 0.0), (4711, 0.0), (4712, 0.0), (4713, 0.0), (4714, 0.0), (4716, 0.0), (4721, 0.0), (4725, 0.0), (4728, 0.0), (4729, 0.0), (4731, 0.0), (4735, 0.0), (4736, 0.0), (4737, 0.0), (4741, 0.0), (4743, 0.0), (4745, 0.0), (4755, 0.0), (4757, 0.0), (4759, 0.0), (4765, 0.0), (4766, 0.0), (4769, 0.0), (4773, 0.0), (4788, 0.0), (4791, 0.0), (4801, 0.0), (4802, 0.0)]\n"
          ]
        }
      ]
    },
    {
      "cell_type": "code",
      "source": [
        "#printing\n",
        "print(\"Movies suggested for you :\\n\")\n",
        "i = 1\n",
        "sortlist.pop(0)  # Remove the first item from the list\n",
        "for movie in sortlist:\n",
        "    index = movie[0]\n",
        "    title = mv_data[mv_data.index == index]['title'].values[0]\n",
        "    if i <= 10:\n",
        "        print(str(i) + ')\\t', title)\n",
        "        i += 1\n"
      ],
      "metadata": {
        "colab": {
          "base_uri": "https://localhost:8080/"
        },
        "id": "uoi69uNymtsi",
        "outputId": "f44c1ebd-5c82-4b5c-a981-ef5c77c501ad"
      },
      "execution_count": 67,
      "outputs": [
        {
          "output_type": "stream",
          "name": "stdout",
          "text": [
            "Movies suggested for you :\n",
            "\n",
            "1)\t Cheri\n",
            "2)\t Almost Famous\n",
            "3)\t Primary Colors\n",
            "4)\t The Aviator\n",
            "5)\t Gangs of New York\n",
            "6)\t Little Black Book\n",
            "7)\t Flushed Away\n",
            "8)\t Tammy\n",
            "9)\t The Holiday\n",
            "10)\t In the Valley of Elah\n"
          ]
        }
      ]
    }
  ]
}